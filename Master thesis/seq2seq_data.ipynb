{
  "nbformat": 4,
  "nbformat_minor": 0,
  "metadata": {
    "colab": {
      "provenance": [],
      "collapsed_sections": []
    },
    "kernelspec": {
      "name": "python3",
      "display_name": "Python 3"
    }
  },
  "cells": [
    {
      "cell_type": "code",
      "metadata": {
        "id": "XKY8XXxesCk9",
        "colab": {
          "base_uri": "https://localhost:8080/",
          "height": 121
        },
        "outputId": "ac75c44b-f433-42de-eb67-95c3674dabe7"
      },
      "source": [
        "from google.colab import drive\n",
        "drive.mount(\"/content/drive\")"
      ],
      "execution_count": null,
      "outputs": [
        {
          "output_type": "stream",
          "text": [
            "Go to this URL in a browser: https://accounts.google.com/o/oauth2/auth?client_id=947318989803-6bn6qk8qdgf4n4g3pfee6491hc0brc4i.apps.googleusercontent.com&redirect_uri=urn%3aietf%3awg%3aoauth%3a2.0%3aoob&scope=email%20https%3a%2f%2fwww.googleapis.com%2fauth%2fdocs.test%20https%3a%2f%2fwww.googleapis.com%2fauth%2fdrive%20https%3a%2f%2fwww.googleapis.com%2fauth%2fdrive.photos.readonly%20https%3a%2f%2fwww.googleapis.com%2fauth%2fpeopleapi.readonly&response_type=code\n",
            "\n",
            "Enter your authorization code:\n",
            "··········\n",
            "Mounted at /content/drive\n"
          ],
          "name": "stdout"
        }
      ]
    },
    {
      "cell_type": "code",
      "metadata": {
        "id": "hte0aEvfsNz_",
        "colab": {
          "base_uri": "https://localhost:8080/",
          "height": 34
        },
        "outputId": "b3eef6a3-ad70-4ec5-9983-4a5dd755d9b5"
      },
      "source": [
        "cd /content/drive/My Drive/seq2seq_coref"
      ],
      "execution_count": null,
      "outputs": [
        {
          "output_type": "stream",
          "text": [
            "/content/drive/My Drive/seq2seq_coref\n"
          ],
          "name": "stdout"
        }
      ]
    },
    {
      "cell_type": "code",
      "metadata": {
        "id": "FVH2EJYcsnQB"
      },
      "source": [
        "with open('train_source.txt') as f:\n",
        "  log = f.readlines()\n",
        "\n",
        "str1 = ''\n",
        "for line in log:\n",
        "  str1 += line"
      ],
      "execution_count": null,
      "outputs": []
    },
    {
      "cell_type": "code",
      "metadata": {
        "id": "POQ548chsu4e",
        "colab": {
          "base_uri": "https://localhost:8080/",
          "height": 170
        },
        "outputId": "3ac80527-4036-4b78-b6c0-7167488f3146"
      },
      "source": [
        "doc = str1[:1000]\n",
        "doc"
      ],
      "execution_count": null,
      "outputs": [
        {
          "output_type": "execute_result",
          "data": {
            "application/vnd.google.colaboratory.intrinsic+json": {
              "type": "string"
            },
            "text/plain": [
              "\"What kind of memory ?We respectfully invite you to watch a special edition of Across China .WW II Landmarks on the Great Earth of China : Eternal Memories of Taihang MountainStanding tall on Taihang Mountain is the Monument to the Hundred Regiments Offensive .It is composed of a primary stele , secondary steles , a huge round sculpture and beacon tower , and the Great Wall , among other things .A primary stele , three secondary steles , and two inscribed steles .The Hundred Regiments Offensive was the campaign of the largest scale launched by the Eighth Route Army during the War of Resistance against Japan .This campaign broke through the Japanese army 's blockade to reach base areas behind enemy lines , stirring up anti-Japanese spirit throughout the nation and influencing the situation of the anti-fascist war of the people worldwide .This is Zhuanbi Village , Wuxiang County of Shanxi Province , where the Eighth Route Army was headquartered back then .On a wall outside the headquarter\""
            ]
          },
          "metadata": {
            "tags": []
          },
          "execution_count": 4
        }
      ]
    },
    {
      "cell_type": "code",
      "metadata": {
        "id": "_vxoqGE6nbPj",
        "colab": {
          "base_uri": "https://localhost:8080/",
          "height": 162
        },
        "outputId": "bba033fb-4d13-4893-bb0c-5b48b252e2ac"
      },
      "source": [
        "sentence = [sent.string.strip() for sent in nlp(doc).sents]"
      ],
      "execution_count": null,
      "outputs": [
        {
          "output_type": "error",
          "ename": "NameError",
          "evalue": "ignored",
          "traceback": [
            "\u001b[0;31m---------------------------------------------------------------------------\u001b[0m",
            "\u001b[0;31mNameError\u001b[0m                                 Traceback (most recent call last)",
            "\u001b[0;32m<ipython-input-5-8faae6af312c>\u001b[0m in \u001b[0;36m<module>\u001b[0;34m()\u001b[0m\n\u001b[0;32m----> 1\u001b[0;31m \u001b[0msentence\u001b[0m \u001b[0;34m=\u001b[0m \u001b[0;34m[\u001b[0m\u001b[0msent\u001b[0m\u001b[0;34m.\u001b[0m\u001b[0mstring\u001b[0m\u001b[0;34m.\u001b[0m\u001b[0mstrip\u001b[0m\u001b[0;34m(\u001b[0m\u001b[0;34m)\u001b[0m \u001b[0;32mfor\u001b[0m \u001b[0msent\u001b[0m \u001b[0;32min\u001b[0m \u001b[0mnlp\u001b[0m\u001b[0;34m(\u001b[0m\u001b[0mdoc\u001b[0m\u001b[0;34m)\u001b[0m\u001b[0;34m.\u001b[0m\u001b[0msents\u001b[0m\u001b[0;34m]\u001b[0m\u001b[0;34m\u001b[0m\u001b[0;34m\u001b[0m\u001b[0m\n\u001b[0m",
            "\u001b[0;31mNameError\u001b[0m: name 'nlp' is not defined"
          ]
        }
      ]
    },
    {
      "cell_type": "code",
      "metadata": {
        "id": "qBf4F18Xsw-h"
      },
      "source": [
        "#!git clone https://github.com/huggingface/neuralcoref.git"
      ],
      "execution_count": null,
      "outputs": []
    },
    {
      "cell_type": "code",
      "metadata": {
        "id": "gt4YDXeps1Ch",
        "colab": {
          "base_uri": "https://localhost:8080/",
          "height": 659
        },
        "outputId": "d501e296-ad6b-42ea-ca24-3ca44e06ba3e"
      },
      "source": [
        "!pip install -U spacy"
      ],
      "execution_count": null,
      "outputs": [
        {
          "output_type": "stream",
          "text": [
            "Collecting spacy\n",
            "\u001b[?25l  Downloading https://files.pythonhosted.org/packages/10/b5/c7a92c7ce5d4b353b70b4b5b4385687206c8b230ddfe08746ab0fd310a3a/spacy-2.3.2-cp36-cp36m-manylinux1_x86_64.whl (9.9MB)\n",
            "\u001b[K     |████████████████████████████████| 10.0MB 2.7MB/s \n",
            "\u001b[?25hRequirement already satisfied, skipping upgrade: blis<0.5.0,>=0.4.0 in /usr/local/lib/python3.6/dist-packages (from spacy) (0.4.1)\n",
            "Requirement already satisfied, skipping upgrade: cymem<2.1.0,>=2.0.2 in /usr/local/lib/python3.6/dist-packages (from spacy) (2.0.3)\n",
            "Requirement already satisfied, skipping upgrade: plac<1.2.0,>=0.9.6 in /usr/local/lib/python3.6/dist-packages (from spacy) (1.1.3)\n",
            "Requirement already satisfied, skipping upgrade: setuptools in /usr/local/lib/python3.6/dist-packages (from spacy) (49.6.0)\n",
            "Requirement already satisfied, skipping upgrade: srsly<1.1.0,>=1.0.2 in /usr/local/lib/python3.6/dist-packages (from spacy) (1.0.2)\n",
            "Requirement already satisfied, skipping upgrade: murmurhash<1.1.0,>=0.28.0 in /usr/local/lib/python3.6/dist-packages (from spacy) (1.0.2)\n",
            "Requirement already satisfied, skipping upgrade: preshed<3.1.0,>=3.0.2 in /usr/local/lib/python3.6/dist-packages (from spacy) (3.0.2)\n",
            "Requirement already satisfied, skipping upgrade: wasabi<1.1.0,>=0.4.0 in /usr/local/lib/python3.6/dist-packages (from spacy) (0.7.1)\n",
            "Requirement already satisfied, skipping upgrade: tqdm<5.0.0,>=4.38.0 in /usr/local/lib/python3.6/dist-packages (from spacy) (4.41.1)\n",
            "Requirement already satisfied, skipping upgrade: requests<3.0.0,>=2.13.0 in /usr/local/lib/python3.6/dist-packages (from spacy) (2.23.0)\n",
            "Requirement already satisfied, skipping upgrade: catalogue<1.1.0,>=0.0.7 in /usr/local/lib/python3.6/dist-packages (from spacy) (1.0.0)\n",
            "Requirement already satisfied, skipping upgrade: numpy>=1.15.0 in /usr/local/lib/python3.6/dist-packages (from spacy) (1.18.5)\n",
            "Collecting thinc==7.4.1\n",
            "\u001b[?25l  Downloading https://files.pythonhosted.org/packages/10/ae/ef3ae5e93639c0ef8e3eb32e3c18341e511b3c515fcfc603f4b808087651/thinc-7.4.1-cp36-cp36m-manylinux1_x86_64.whl (2.1MB)\n",
            "\u001b[K     |████████████████████████████████| 2.1MB 47.4MB/s \n",
            "\u001b[?25hRequirement already satisfied, skipping upgrade: certifi>=2017.4.17 in /usr/local/lib/python3.6/dist-packages (from requests<3.0.0,>=2.13.0->spacy) (2020.6.20)\n",
            "Requirement already satisfied, skipping upgrade: urllib3!=1.25.0,!=1.25.1,<1.26,>=1.21.1 in /usr/local/lib/python3.6/dist-packages (from requests<3.0.0,>=2.13.0->spacy) (1.24.3)\n",
            "Requirement already satisfied, skipping upgrade: idna<3,>=2.5 in /usr/local/lib/python3.6/dist-packages (from requests<3.0.0,>=2.13.0->spacy) (2.10)\n",
            "Requirement already satisfied, skipping upgrade: chardet<4,>=3.0.2 in /usr/local/lib/python3.6/dist-packages (from requests<3.0.0,>=2.13.0->spacy) (3.0.4)\n",
            "Requirement already satisfied, skipping upgrade: importlib-metadata>=0.20; python_version < \"3.8\" in /usr/local/lib/python3.6/dist-packages (from catalogue<1.1.0,>=0.0.7->spacy) (1.7.0)\n",
            "Requirement already satisfied, skipping upgrade: zipp>=0.5 in /usr/local/lib/python3.6/dist-packages (from importlib-metadata>=0.20; python_version < \"3.8\"->catalogue<1.1.0,>=0.0.7->spacy) (3.1.0)\n",
            "Installing collected packages: thinc, spacy\n",
            "  Found existing installation: thinc 7.4.0\n",
            "    Uninstalling thinc-7.4.0:\n",
            "      Successfully uninstalled thinc-7.4.0\n",
            "  Found existing installation: spacy 2.2.4\n",
            "    Uninstalling spacy-2.2.4:\n",
            "      Successfully uninstalled spacy-2.2.4\n",
            "Successfully installed spacy-2.3.2 thinc-7.4.1\n"
          ],
          "name": "stdout"
        },
        {
          "output_type": "display_data",
          "data": {
            "application/vnd.colab-display-data+json": {
              "pip_warning": {
                "packages": [
                  "spacy",
                  "thinc"
                ]
              }
            }
          },
          "metadata": {
            "tags": []
          }
        }
      ]
    },
    {
      "cell_type": "code",
      "metadata": {
        "id": "KspQUbNks4ua",
        "colab": {
          "base_uri": "https://localhost:8080/",
          "height": 692
        },
        "outputId": "ff6b4ad6-b96f-49cf-f31b-d5b9bebea87e"
      },
      "source": [
        "!python -m spacy download en"
      ],
      "execution_count": null,
      "outputs": [
        {
          "output_type": "stream",
          "text": [
            "Collecting en_core_web_sm==2.3.1\n",
            "\u001b[?25l  Downloading https://github.com/explosion/spacy-models/releases/download/en_core_web_sm-2.3.1/en_core_web_sm-2.3.1.tar.gz (12.0MB)\n",
            "\u001b[K     |████████████████████████████████| 12.1MB 1.2MB/s \n",
            "\u001b[?25hRequirement already satisfied: spacy<2.4.0,>=2.3.0 in /usr/local/lib/python3.6/dist-packages (from en_core_web_sm==2.3.1) (2.3.2)\n",
            "Requirement already satisfied: cymem<2.1.0,>=2.0.2 in /usr/local/lib/python3.6/dist-packages (from spacy<2.4.0,>=2.3.0->en_core_web_sm==2.3.1) (2.0.3)\n",
            "Requirement already satisfied: wasabi<1.1.0,>=0.4.0 in /usr/local/lib/python3.6/dist-packages (from spacy<2.4.0,>=2.3.0->en_core_web_sm==2.3.1) (0.7.1)\n",
            "Requirement already satisfied: srsly<1.1.0,>=1.0.2 in /usr/local/lib/python3.6/dist-packages (from spacy<2.4.0,>=2.3.0->en_core_web_sm==2.3.1) (1.0.2)\n",
            "Requirement already satisfied: preshed<3.1.0,>=3.0.2 in /usr/local/lib/python3.6/dist-packages (from spacy<2.4.0,>=2.3.0->en_core_web_sm==2.3.1) (3.0.2)\n",
            "Requirement already satisfied: plac<1.2.0,>=0.9.6 in /usr/local/lib/python3.6/dist-packages (from spacy<2.4.0,>=2.3.0->en_core_web_sm==2.3.1) (1.1.3)\n",
            "Requirement already satisfied: blis<0.5.0,>=0.4.0 in /usr/local/lib/python3.6/dist-packages (from spacy<2.4.0,>=2.3.0->en_core_web_sm==2.3.1) (0.4.1)\n",
            "Requirement already satisfied: requests<3.0.0,>=2.13.0 in /usr/local/lib/python3.6/dist-packages (from spacy<2.4.0,>=2.3.0->en_core_web_sm==2.3.1) (2.23.0)\n",
            "Requirement already satisfied: murmurhash<1.1.0,>=0.28.0 in /usr/local/lib/python3.6/dist-packages (from spacy<2.4.0,>=2.3.0->en_core_web_sm==2.3.1) (1.0.2)\n",
            "Requirement already satisfied: tqdm<5.0.0,>=4.38.0 in /usr/local/lib/python3.6/dist-packages (from spacy<2.4.0,>=2.3.0->en_core_web_sm==2.3.1) (4.41.1)\n",
            "Requirement already satisfied: setuptools in /usr/local/lib/python3.6/dist-packages (from spacy<2.4.0,>=2.3.0->en_core_web_sm==2.3.1) (49.6.0)\n",
            "Requirement already satisfied: thinc==7.4.1 in /usr/local/lib/python3.6/dist-packages (from spacy<2.4.0,>=2.3.0->en_core_web_sm==2.3.1) (7.4.1)\n",
            "Requirement already satisfied: catalogue<1.1.0,>=0.0.7 in /usr/local/lib/python3.6/dist-packages (from spacy<2.4.0,>=2.3.0->en_core_web_sm==2.3.1) (1.0.0)\n",
            "Requirement already satisfied: numpy>=1.15.0 in /usr/local/lib/python3.6/dist-packages (from spacy<2.4.0,>=2.3.0->en_core_web_sm==2.3.1) (1.18.5)\n",
            "Requirement already satisfied: urllib3!=1.25.0,!=1.25.1,<1.26,>=1.21.1 in /usr/local/lib/python3.6/dist-packages (from requests<3.0.0,>=2.13.0->spacy<2.4.0,>=2.3.0->en_core_web_sm==2.3.1) (1.24.3)\n",
            "Requirement already satisfied: idna<3,>=2.5 in /usr/local/lib/python3.6/dist-packages (from requests<3.0.0,>=2.13.0->spacy<2.4.0,>=2.3.0->en_core_web_sm==2.3.1) (2.10)\n",
            "Requirement already satisfied: chardet<4,>=3.0.2 in /usr/local/lib/python3.6/dist-packages (from requests<3.0.0,>=2.13.0->spacy<2.4.0,>=2.3.0->en_core_web_sm==2.3.1) (3.0.4)\n",
            "Requirement already satisfied: certifi>=2017.4.17 in /usr/local/lib/python3.6/dist-packages (from requests<3.0.0,>=2.13.0->spacy<2.4.0,>=2.3.0->en_core_web_sm==2.3.1) (2020.6.20)\n",
            "Requirement already satisfied: importlib-metadata>=0.20; python_version < \"3.8\" in /usr/local/lib/python3.6/dist-packages (from catalogue<1.1.0,>=0.0.7->spacy<2.4.0,>=2.3.0->en_core_web_sm==2.3.1) (1.7.0)\n",
            "Requirement already satisfied: zipp>=0.5 in /usr/local/lib/python3.6/dist-packages (from importlib-metadata>=0.20; python_version < \"3.8\"->catalogue<1.1.0,>=0.0.7->spacy<2.4.0,>=2.3.0->en_core_web_sm==2.3.1) (3.1.0)\n",
            "Building wheels for collected packages: en-core-web-sm\n",
            "  Building wheel for en-core-web-sm (setup.py) ... \u001b[?25l\u001b[?25hdone\n",
            "  Created wheel for en-core-web-sm: filename=en_core_web_sm-2.3.1-cp36-none-any.whl size=12047109 sha256=00b709eaf8a78ebda104049922b9698c52d633771dc0d20a821799648641fe8d\n",
            "  Stored in directory: /tmp/pip-ephem-wheel-cache-dcbf1yqs/wheels/2b/3f/41/f0b92863355c3ba34bb32b37d8a0c662959da0058202094f46\n",
            "Successfully built en-core-web-sm\n",
            "Installing collected packages: en-core-web-sm\n",
            "  Found existing installation: en-core-web-sm 2.2.5\n",
            "    Uninstalling en-core-web-sm-2.2.5:\n",
            "      Successfully uninstalled en-core-web-sm-2.2.5\n",
            "Successfully installed en-core-web-sm-2.3.1\n",
            "\u001b[38;5;2m✔ Download and installation successful\u001b[0m\n",
            "You can now load the model via spacy.load('en_core_web_sm')\n",
            "\u001b[38;5;2m✔ Linking successful\u001b[0m\n",
            "/usr/local/lib/python3.6/dist-packages/en_core_web_sm -->\n",
            "/usr/local/lib/python3.6/dist-packages/spacy/data/en\n",
            "You can now load the model via spacy.load('en')\n"
          ],
          "name": "stdout"
        }
      ]
    },
    {
      "cell_type": "code",
      "metadata": {
        "id": "fGsP2pzItlv9"
      },
      "source": [
        "import spacy\n",
        "nlp = spacy.load('en')"
      ],
      "execution_count": null,
      "outputs": []
    },
    {
      "cell_type": "code",
      "metadata": {
        "id": "3EDvQziptoWF",
        "colab": {
          "base_uri": "https://localhost:8080/",
          "height": 34
        },
        "outputId": "24046378-b43a-456a-8398-8cb450b73736"
      },
      "source": [
        "%cd neuralcoref"
      ],
      "execution_count": null,
      "outputs": [
        {
          "output_type": "stream",
          "text": [
            "/content/drive/My Drive/seq2seq_coref/neuralcoref\n"
          ],
          "name": "stdout"
        }
      ]
    },
    {
      "cell_type": "code",
      "metadata": {
        "id": "QgrKlC6kt4t7"
      },
      "source": [
        "#!pip install -r requirements.txt"
      ],
      "execution_count": null,
      "outputs": []
    },
    {
      "cell_type": "code",
      "metadata": {
        "id": "4RlvghY0t7BJ",
        "colab": {
          "base_uri": "https://localhost:8080/",
          "height": 558
        },
        "outputId": "7a1ced19-a4f5-42f2-f071-41a825f1fa86"
      },
      "source": [
        "!pip install -e ."
      ],
      "execution_count": null,
      "outputs": [
        {
          "output_type": "stream",
          "text": [
            "Obtaining file:///content/drive/My%20Drive/seq2seq_coref/neuralcoref\n",
            "Requirement already satisfied: numpy>=1.15.0 in /usr/local/lib/python3.6/dist-packages (from neuralcoref==4.0) (1.18.5)\n",
            "Requirement already satisfied: boto3 in /usr/local/lib/python3.6/dist-packages (from neuralcoref==4.0) (1.14.48)\n",
            "Requirement already satisfied: requests<3.0.0,>=2.13.0 in /usr/local/lib/python3.6/dist-packages (from neuralcoref==4.0) (2.23.0)\n",
            "Requirement already satisfied: spacy>=2.1.0 in /usr/local/lib/python3.6/dist-packages (from neuralcoref==4.0) (2.3.2)\n",
            "Requirement already satisfied: botocore<1.18.0,>=1.17.48 in /usr/local/lib/python3.6/dist-packages (from boto3->neuralcoref==4.0) (1.17.48)\n",
            "Requirement already satisfied: jmespath<1.0.0,>=0.7.1 in /usr/local/lib/python3.6/dist-packages (from boto3->neuralcoref==4.0) (0.10.0)\n",
            "Requirement already satisfied: s3transfer<0.4.0,>=0.3.0 in /usr/local/lib/python3.6/dist-packages (from boto3->neuralcoref==4.0) (0.3.3)\n",
            "Requirement already satisfied: chardet<4,>=3.0.2 in /usr/local/lib/python3.6/dist-packages (from requests<3.0.0,>=2.13.0->neuralcoref==4.0) (3.0.4)\n",
            "Requirement already satisfied: certifi>=2017.4.17 in /usr/local/lib/python3.6/dist-packages (from requests<3.0.0,>=2.13.0->neuralcoref==4.0) (2020.6.20)\n",
            "Requirement already satisfied: urllib3!=1.25.0,!=1.25.1,<1.26,>=1.21.1 in /usr/local/lib/python3.6/dist-packages (from requests<3.0.0,>=2.13.0->neuralcoref==4.0) (1.24.3)\n",
            "Requirement already satisfied: idna<3,>=2.5 in /usr/local/lib/python3.6/dist-packages (from requests<3.0.0,>=2.13.0->neuralcoref==4.0) (2.10)\n",
            "Requirement already satisfied: tqdm<5.0.0,>=4.38.0 in /usr/local/lib/python3.6/dist-packages (from spacy>=2.1.0->neuralcoref==4.0) (4.41.1)\n",
            "Requirement already satisfied: murmurhash<1.1.0,>=0.28.0 in /usr/local/lib/python3.6/dist-packages (from spacy>=2.1.0->neuralcoref==4.0) (1.0.2)\n",
            "Requirement already satisfied: cymem<2.1.0,>=2.0.2 in /usr/local/lib/python3.6/dist-packages (from spacy>=2.1.0->neuralcoref==4.0) (2.0.3)\n",
            "Requirement already satisfied: wasabi<1.1.0,>=0.4.0 in /usr/local/lib/python3.6/dist-packages (from spacy>=2.1.0->neuralcoref==4.0) (0.7.1)\n",
            "Requirement already satisfied: catalogue<1.1.0,>=0.0.7 in /usr/local/lib/python3.6/dist-packages (from spacy>=2.1.0->neuralcoref==4.0) (1.0.0)\n",
            "Requirement already satisfied: blis<0.5.0,>=0.4.0 in /usr/local/lib/python3.6/dist-packages (from spacy>=2.1.0->neuralcoref==4.0) (0.4.1)\n",
            "Requirement already satisfied: setuptools in /usr/local/lib/python3.6/dist-packages (from spacy>=2.1.0->neuralcoref==4.0) (49.6.0)\n",
            "Requirement already satisfied: preshed<3.1.0,>=3.0.2 in /usr/local/lib/python3.6/dist-packages (from spacy>=2.1.0->neuralcoref==4.0) (3.0.2)\n",
            "Requirement already satisfied: plac<1.2.0,>=0.9.6 in /usr/local/lib/python3.6/dist-packages (from spacy>=2.1.0->neuralcoref==4.0) (1.1.3)\n",
            "Requirement already satisfied: thinc==7.4.1 in /usr/local/lib/python3.6/dist-packages (from spacy>=2.1.0->neuralcoref==4.0) (7.4.1)\n",
            "Requirement already satisfied: srsly<1.1.0,>=1.0.2 in /usr/local/lib/python3.6/dist-packages (from spacy>=2.1.0->neuralcoref==4.0) (1.0.2)\n",
            "Requirement already satisfied: python-dateutil<3.0.0,>=2.1 in /usr/local/lib/python3.6/dist-packages (from botocore<1.18.0,>=1.17.48->boto3->neuralcoref==4.0) (2.8.1)\n",
            "Requirement already satisfied: docutils<0.16,>=0.10 in /usr/local/lib/python3.6/dist-packages (from botocore<1.18.0,>=1.17.48->boto3->neuralcoref==4.0) (0.15.2)\n",
            "Requirement already satisfied: importlib-metadata>=0.20; python_version < \"3.8\" in /usr/local/lib/python3.6/dist-packages (from catalogue<1.1.0,>=0.0.7->spacy>=2.1.0->neuralcoref==4.0) (1.7.0)\n",
            "Requirement already satisfied: six>=1.5 in /usr/local/lib/python3.6/dist-packages (from python-dateutil<3.0.0,>=2.1->botocore<1.18.0,>=1.17.48->boto3->neuralcoref==4.0) (1.15.0)\n",
            "Requirement already satisfied: zipp>=0.5 in /usr/local/lib/python3.6/dist-packages (from importlib-metadata>=0.20; python_version < \"3.8\"->catalogue<1.1.0,>=0.0.7->spacy>=2.1.0->neuralcoref==4.0) (3.1.0)\n",
            "Installing collected packages: neuralcoref\n",
            "  Running setup.py develop for neuralcoref\n",
            "Successfully installed neuralcoref\n"
          ],
          "name": "stdout"
        }
      ]
    },
    {
      "cell_type": "code",
      "metadata": {
        "id": "G6JPNdvpvOrl",
        "colab": {
          "base_uri": "https://localhost:8080/",
          "height": 138
        },
        "outputId": "02860985-2c87-4b81-ba78-0a256dae092c"
      },
      "source": [
        "import neuralcoref\n",
        "neuralcoref.add_to_pipe(nlp)"
      ],
      "execution_count": null,
      "outputs": [
        {
          "output_type": "stream",
          "text": [
            "/usr/lib/python3.6/importlib/_bootstrap.py:219: RuntimeWarning: spacy.morphology.Morphology size changed, may indicate binary incompatibility. Expected 104 from C header, got 112 from PyObject\n",
            "  return f(*args, **kwds)\n",
            "/usr/lib/python3.6/importlib/_bootstrap.py:219: RuntimeWarning: spacy.vocab.Vocab size changed, may indicate binary incompatibility. Expected 96 from C header, got 112 from PyObject\n",
            "  return f(*args, **kwds)\n",
            "100%|██████████| 40155833/40155833 [00:04<00:00, 9335276.53B/s] \n"
          ],
          "name": "stderr"
        },
        {
          "output_type": "execute_result",
          "data": {
            "text/plain": [
              "<spacy.lang.en.English at 0x7f5c83984f28>"
            ]
          },
          "metadata": {
            "tags": []
          },
          "execution_count": 11
        }
      ]
    },
    {
      "cell_type": "code",
      "metadata": {
        "id": "nXjVqJblvVHo",
        "colab": {
          "base_uri": "https://localhost:8080/",
          "height": 54
        },
        "outputId": "120e0eef-00b3-407e-ec70-16c304c7da7c"
      },
      "source": [
        "doc1 = nlp(doc)\n",
        "#print(doc1._.coref_clusters)\n",
        "#print(doc1._.has_coref)\n",
        "print(doc1._.coref_scores)"
      ],
      "execution_count": null,
      "outputs": [
        {
          "output_type": "stream",
          "text": [
            "{What kind of memory: {What kind of memory: 1.7914930582046509}, memory: {memory: 1.8779042959213257, What kind of memory: -1.5086630582809448}, We: {We: 1.101930022239685, What kind of memory: -1.7156559228897095, memory: -1.7420350313186646}, a special edition of Across China: {a special edition of Across China: 1.7621923685073853, What kind of memory: -1.5008152723312378, memory: -1.5081698894500732, We: -1.979848861694336}, Across China: {Across China: 1.774088978767395, What kind of memory: -1.5609064102172852, memory: -1.5658903121948242, We: -1.8950417041778564, a special edition of Across China: -1.541186809539795}, China: {China: 2.352290153503418, What kind of memory: -1.6229140758514404, memory: -1.6047608852386475, We: -1.9801287651062012, a special edition of Across China: -1.63185453414917, Across China: -1.8051825761795044}, II Landmarks on the Great Earth of China : Eternal Memories of Taihang MountainStanding tall on Taihang Mountain: {II Landmarks on the Great Earth of China : Eternal Memories of Taihang MountainStanding tall on Taihang Mountain: 1.7832564115524292, What kind of memory: -1.5595117807388306, memory: -1.5504761934280396, We: -2.2800049781799316, a special edition of Across China: -1.4509737491607666, Across China: -1.8423142433166504, China: -2.329214096069336}, the Great Earth: {the Great Earth: 1.7031010389328003, What kind of memory: -1.576580286026001, memory: -1.543660283088684, We: -2.1699445247650146, a special edition of Across China: -1.5442687273025513, Across China: -1.7336972951889038, China: -2.0767698287963867, II Landmarks on the Great Earth of China : Eternal Memories of Taihang MountainStanding tall on Taihang Mountain: -1.529503345489502}, the Great Earth of China: {the Great Earth of China: 1.9189783334732056, What kind of memory: -1.560204267501831, memory: -1.5450551509857178, We: -2.04465651512146, a special edition of Across China: -1.4961493015289307, Across China: -1.6263444423675537, China: -1.8706306219100952, II Landmarks on the Great Earth of China : Eternal Memories of Taihang MountainStanding tall on Taihang Mountain: -1.512743353843689, the Great Earth: -1.4994401931762695}, China: {China: 2.050330638885498, What kind of memory: -1.6267359256744385, memory: -1.5990588665008545, We: -2.26173734664917, a special edition of Across China: -1.5583841800689697, Across China: -1.5083086490631104, China: 4.739760398864746, II Landmarks on the Great Earth of China : Eternal Memories of Taihang MountainStanding tall on Taihang Mountain: -1.6257028579711914, the Great Earth: -1.8637902736663818, the Great Earth of China: -1.645696997642517}, Eternal Memories: {Eternal Memories: 2.0057101249694824, What kind of memory: -1.5563838481903076, memory: -1.531768560409546, We: -2.2798211574554443, a special edition of Across China: -1.5359666347503662, Across China: -1.7504584789276123, China: -2.0581390857696533, II Landmarks on the Great Earth of China : Eternal Memories of Taihang MountainStanding tall on Taihang Mountain: -1.5213220119476318, the Great Earth: -1.633411169052124, the Great Earth of China: -1.6498572826385498, China: -2.176398277282715}, Taihang MountainStanding: {Taihang MountainStanding: 1.5294033288955688, What kind of memory: -1.5506805181503296, memory: -1.5419771671295166, We: -2.1240527629852295, a special edition of Across China: -1.534808874130249, Across China: -1.7876195907592773, China: -2.1332051753997803, II Landmarks on the Great Earth of China : Eternal Memories of Taihang MountainStanding tall on Taihang Mountain: -1.5919650793075562, the Great Earth: -1.7078546285629272, the Great Earth of China: -1.6308152675628662, China: -2.110508441925049, Eternal Memories: -1.6714344024658203}, Taihang Mountain: {Taihang Mountain: 2.2580647468566895, What kind of memory: -1.6222875118255615, memory: -1.598465919494629, We: -2.3295159339904785, a special edition of Across China: -1.5764631032943726, Across China: -1.8078094720840454, China: -2.0670511722564697, II Landmarks on the Great Earth of China : Eternal Memories of Taihang MountainStanding tall on Taihang Mountain: -1.7302926778793335, the Great Earth: -1.7707151174545288, the Great Earth of China: -1.6481571197509766, China: -2.2443034648895264, Eternal Memories: -1.8544888496398926, Taihang MountainStanding: -1.7090480327606201}, the Monument to the Hundred Regiments Offensive: {the Monument to the Hundred Regiments Offensive: 1.8213404417037964, What kind of memory: -1.5482237339019775, memory: -1.5601451396942139, We: -2.380927324295044, a special edition of Across China: -1.5317326784133911, Across China: -1.8082938194274902, China: -2.1210927963256836, II Landmarks on the Great Earth of China : Eternal Memories of Taihang MountainStanding tall on Taihang Mountain: -1.6644564867019653, the Great Earth: -1.6805438995361328, the Great Earth of China: -1.5825687646865845, China: -2.0251574516296387, Eternal Memories: -1.6166307926177979, Taihang MountainStanding: -1.6356391906738281, Taihang Mountain: -2.0050082206726074}, the Hundred Regiments Offensive: {the Hundred Regiments Offensive: 1.1349204778671265, What kind of memory: -1.5610768795013428, memory: -1.5853582620620728, We: -2.6820030212402344, a special edition of Across China: -1.5321218967437744, Across China: -1.9104446172714233, China: -2.1992709636688232, II Landmarks on the Great Earth of China : Eternal Memories of Taihang MountainStanding tall on Taihang Mountain: -1.7910312414169312, the Great Earth: -1.7630314826965332, the Great Earth of China: -1.5883584022521973, China: -2.0761475563049316, Eternal Memories: -1.6702656745910645, Taihang MountainStanding: -1.7102614641189575, Taihang Mountain: -2.1505305767059326, the Monument to the Hundred Regiments Offensive: -1.5271514654159546}, a primary stele , secondary steles , a huge round sculpture and beacon tower , and the Great Wall , among other things: {a primary stele , secondary steles , a huge round sculpture and beacon tower , and the Great Wall , among other things: 1.908631443977356, What kind of memory: -1.5125356912612915, memory: -1.5195108652114868, We: -2.2953433990478516, a special edition of Across China: -1.5146784782409668, Across China: -1.6341404914855957, China: -2.156665325164795, II Landmarks on the Great Earth of China : Eternal Memories of Taihang MountainStanding tall on Taihang Mountain: -1.5227068662643433, the Great Earth: -1.5956015586853027, the Great Earth of China: -1.607466459274292, China: -2.071981906890869, Eternal Memories: -1.5904960632324219, Taihang MountainStanding: -1.5880061388015747, Taihang Mountain: -1.7444863319396973, the Monument to the Hundred Regiments Offensive: -1.5137385129928589, the Hundred Regiments Offensive: -1.6024693250656128}, secondary steles , a huge round sculpture and beacon tower , and the Great Wall: {secondary steles , a huge round sculpture and beacon tower , and the Great Wall: 1.537453055381775, What kind of memory: -1.528648018836975, memory: -1.5353950262069702, We: -1.8970112800598145, a special edition of Across China: -1.529976725578308, Across China: -1.662300705909729, China: -2.1356379985809326, II Landmarks on the Great Earth of China : Eternal Memories of Taihang MountainStanding tall on Taihang Mountain: -1.5631835460662842, the Great Earth: -1.6497762203216553, the Great Earth of China: -1.5733810663223267, China: -2.031186580657959, Eternal Memories: -1.614711046218872, Taihang MountainStanding: -1.5791912078857422, Taihang Mountain: -1.6958434581756592, the Monument to the Hundred Regiments Offensive: -1.529528021812439, the Hundred Regiments Offensive: -1.6077271699905396, a primary stele , secondary steles , a huge round sculpture and beacon tower , and the Great Wall , among other things: -1.5140845775604248}, a huge round sculpture and beacon tower , and the Great Wall: {a huge round sculpture and beacon tower , and the Great Wall: 1.6637932062149048, What kind of memory: -1.5259264707565308, memory: -1.5270570516586304, We: -2.0793070793151855, a special edition of Across China: -1.52036714553833, Across China: -1.6269370317459106, China: -2.018956184387207, II Landmarks on the Great Earth of China : Eternal Memories of Taihang MountainStanding tall on Taihang Mountain: -1.561094880104065, the Great Earth: -1.6377716064453125, the Great Earth of China: -1.5754053592681885, China: -1.950740933418274, Eternal Memories: -1.5978119373321533, Taihang MountainStanding: -1.5818135738372803, Taihang Mountain: -1.6884613037109375, the Monument to the Hundred Regiments Offensive: -1.5244972705841064, the Hundred Regiments Offensive: -1.6345608234405518, a primary stele , secondary steles , a huge round sculpture and beacon tower , and the Great Wall , among other things: -1.5115940570831299, secondary steles , a huge round sculpture and beacon tower , and the Great Wall: -1.5325360298156738}, beacon tower: {beacon tower: 1.7649203538894653, What kind of memory: -1.5548561811447144, memory: -1.5335004329681396, We: -2.4278883934020996, a special edition of Across China: -1.517122507095337, Across China: -1.7472944259643555, China: -2.377305269241333, II Landmarks on the Great Earth of China : Eternal Memories of Taihang MountainStanding tall on Taihang Mountain: -1.6703343391418457, the Great Earth: -1.5925366878509521, the Great Earth of China: -1.5945930480957031, China: -2.414595127105713, Eternal Memories: -1.5815657377243042, Taihang MountainStanding: -1.5533355474472046, Taihang Mountain: -1.6579811573028564, the Monument to the Hundred Regiments Offensive: -1.547445297241211, the Hundred Regiments Offensive: -1.784119963645935, a primary stele , secondary steles , a huge round sculpture and beacon tower , and the Great Wall , among other things: -1.5358895063400269, secondary steles , a huge round sculpture and beacon tower , and the Great Wall: -1.562545895576477, a huge round sculpture and beacon tower , and the Great Wall: -1.5639716386795044}, the Great Wall: {the Great Wall: 2.080171585083008, What kind of memory: -1.5781512260437012, memory: -1.5528748035430908, We: -2.4017977714538574, a special edition of Across China: -1.5373345613479614, Across China: -1.946608543395996, China: -2.3029026985168457, II Landmarks on the Great Earth of China : Eternal Memories of Taihang MountainStanding tall on Taihang Mountain: -1.5529353618621826, the Great Earth: -1.5960522890090942, the Great Earth of China: -1.5289981365203857, China: -2.4124088287353516, Eternal Memories: -1.6695737838745117, Taihang MountainStanding: -1.7076969146728516, Taihang Mountain: -1.9807820320129395, the Monument to the Hundred Regiments Offensive: -1.6160024404525757, the Hundred Regiments Offensive: -1.771657943725586, a primary stele , secondary steles , a huge round sculpture and beacon tower , and the Great Wall , among other things: -1.568802833557129, secondary steles , a huge round sculpture and beacon tower , and the Great Wall: -1.5745213031768799, a huge round sculpture and beacon tower , and the Great Wall: -1.5833923816680908, beacon tower: -1.5732471942901611}, other things: {other things: 1.8579870462417603, What kind of memory: -1.508702039718628, memory: -1.5125724077224731, We: -1.9695587158203125, a special edition of Across China: -1.5122498273849487, Across China: -1.6562268733978271, China: -2.309706926345825, II Landmarks on the Great Earth of China : Eternal Memories of Taihang MountainStanding tall on Taihang Mountain: -1.636252999305725, the Great Earth: -1.6439945697784424, the Great Earth of China: -1.7032442092895508, China: -2.3197686672210693, Eternal Memories: -1.5719335079193115, Taihang MountainStanding: -1.5719037055969238, Taihang Mountain: -1.8767049312591553, the Monument to the Hundred Regiments Offensive: -1.540055513381958, the Hundred Regiments Offensive: -1.7468299865722656, a primary stele , secondary steles , a huge round sculpture and beacon tower , and the Great Wall , among other things: -1.5065149068832397, secondary steles , a huge round sculpture and beacon tower , and the Great Wall: -1.5195337533950806, a huge round sculpture and beacon tower , and the Great Wall: -1.522293210029602, beacon tower: -1.5275543928146362, the Great Wall: -1.6615382432937622}, primary stele , three secondary steles , and two inscribed steles .The: {primary stele , three secondary steles , and two inscribed steles .The: 1.7048753499984741, What kind of memory: -1.5298818349838257, memory: -1.5489590167999268, We: -2.42874813079834, a special edition of Across China: -1.5324854850769043, Across China: -1.779369831085205, China: -2.3833634853363037, II Landmarks on the Great Earth of China : Eternal Memories of Taihang MountainStanding tall on Taihang Mountain: -1.7645001411437988, the Great Earth: -1.878549337387085, the Great Earth of China: -1.7517435550689697, China: -2.3216114044189453, Eternal Memories: -1.6931637525558472, Taihang MountainStanding: -1.674741268157959, Taihang Mountain: -1.9233238697052002, the Monument to the Hundred Regiments Offensive: -1.5682315826416016, the Hundred Regiments Offensive: -1.7192878723144531, a primary stele , secondary steles , a huge round sculpture and beacon tower , and the Great Wall , among other things: -1.4490209817886353, secondary steles , a huge round sculpture and beacon tower , and the Great Wall: -1.5076476335525513, a huge round sculpture and beacon tower , and the Great Wall: -1.5311548709869385, beacon tower: -1.5436420440673828, the Great Wall: -1.6604561805725098, other things: -1.5020191669464111}, three secondary steles , and two inscribed steles: {three secondary steles , and two inscribed steles: 1.4044772386550903, What kind of memory: -1.5420202016830444, memory: -1.5563174486160278, We: -2.2254862785339355, a special edition of Across China: -1.5423015356063843, Across China: -1.793485403060913, China: -2.547429323196411, II Landmarks on the Great Earth of China : Eternal Memories of Taihang MountainStanding tall on Taihang Mountain: -1.7170872688293457, the Great Earth: -1.8565759658813477, the Great Earth of China: -1.8198142051696777, China: -2.4741451740264893, Eternal Memories: -1.6890578269958496, Taihang MountainStanding: -1.663060188293457, Taihang Mountain: -1.8721871376037598, the Monument to the Hundred Regiments Offensive: -1.599746584892273, the Hundred Regiments Offensive: -1.7289276123046875, a primary stele , secondary steles , a huge round sculpture and beacon tower , and the Great Wall , among other things: -1.5121304988861084, secondary steles , a huge round sculpture and beacon tower , and the Great Wall: -1.499047875404358, a huge round sculpture and beacon tower , and the Great Wall: -1.5394208431243896, beacon tower: -1.56600821018219, the Great Wall: -1.7334939241409302, other things: -1.5279368162155151, primary stele , three secondary steles , and two inscribed steles .The: -1.5084015130996704}, two inscribed steles: {two inscribed steles: 1.5799235105514526, What kind of memory: -1.5310171842575073, memory: -1.5384057760238647, We: -2.2855286598205566, a special edition of Across China: -1.5373700857162476, Across China: -1.735896110534668, China: -2.4300851821899414, II Landmarks on the Great Earth of China : Eternal Memories of Taihang MountainStanding tall on Taihang Mountain: -1.7282192707061768, the Great Earth: -1.7052881717681885, the Great Earth of China: -1.7602968215942383, China: -2.3135628700256348, Eternal Memories: -1.634750247001648, Taihang MountainStanding: -1.6024028062820435, Taihang Mountain: -1.8742189407348633, the Monument to the Hundred Regiments Offensive: -1.5943031311035156, the Hundred Regiments Offensive: -1.767017126083374, a primary stele , secondary steles , a huge round sculpture and beacon tower , and the Great Wall , among other things: -1.505753993988037, secondary steles , a huge round sculpture and beacon tower , and the Great Wall: -1.493485450744629, a huge round sculpture and beacon tower , and the Great Wall: -1.5330615043640137, beacon tower: -1.5280838012695312, the Great Wall: -1.6856160163879395, other things: -1.5165448188781738, primary stele , three secondary steles , and two inscribed steles .The: -1.5144686698913574, three secondary steles , and two inscribed steles: -1.5157028436660767}, Hundred Regiments Offensive: {Hundred Regiments Offensive: 1.2676910161972046, What kind of memory: -1.5449135303497314, memory: -1.5544965267181396, We: -2.5120067596435547, a special edition of Across China: -1.5429158210754395, Across China: -1.9228415489196777, China: -2.253126382827759, II Landmarks on the Great Earth of China : Eternal Memories of Taihang MountainStanding tall on Taihang Mountain: -1.9342621564865112, the Great Earth: -1.8139616250991821, the Great Earth of China: -1.6845197677612305, China: -2.3170666694641113, Eternal Memories: -1.6758358478546143, Taihang MountainStanding: -1.851433277130127, Taihang Mountain: -2.214510440826416, the Monument to the Hundred Regiments Offensive: -1.5222147703170776, the Hundred Regiments Offensive: 0.455153226852417, a primary stele , secondary steles , a huge round sculpture and beacon tower , and the Great Wall , among other things: -1.5737025737762451, secondary steles , a huge round sculpture and beacon tower , and the Great Wall: -1.5652776956558228, a huge round sculpture and beacon tower , and the Great Wall: -1.5579218864440918, beacon tower: -1.5734130144119263, the Great Wall: -1.6957066059112549, other things: -1.5168293714523315, primary stele , three secondary steles , and two inscribed steles .The: -1.5371251106262207, three secondary steles , and two inscribed steles: -1.5896120071411133, two inscribed steles: -1.5677529573440552}, the campaign of the largest scale launched by the Eighth Route Army during the War of Resistance against Japan: {the campaign of the largest scale launched by the Eighth Route Army during the War of Resistance against Japan: 2.194467067718506, What kind of memory: -1.5279077291488647, memory: -1.5497996807098389, We: -2.683318853378296, a special edition of Across China: -1.539221167564392, Across China: -1.8754687309265137, China: -2.347337484359741, II Landmarks on the Great Earth of China : Eternal Memories of Taihang MountainStanding tall on Taihang Mountain: -1.8553804159164429, the Great Earth: -1.8234305381774902, the Great Earth of China: -1.8034706115722656, China: -2.447572708129883, Eternal Memories: -1.7151219844818115, Taihang MountainStanding: -1.8345590829849243, Taihang Mountain: -2.1477980613708496, the Monument to the Hundred Regiments Offensive: -1.6207380294799805, the Hundred Regiments Offensive: -1.7935729026794434, a primary stele , secondary steles , a huge round sculpture and beacon tower , and the Great Wall , among other things: -1.5353143215179443, secondary steles , a huge round sculpture and beacon tower , and the Great Wall: -1.558868646621704, a huge round sculpture and beacon tower , and the Great Wall: -1.5714088678359985, beacon tower: -1.564776062965393, the Great Wall: -1.7542096376419067, other things: -1.5136116743087769, primary stele , three secondary steles , and two inscribed steles .The: -1.5405464172363281, three secondary steles , and two inscribed steles: -1.5726163387298584, two inscribed steles: -1.55929434299469, Hundred Regiments Offensive: -1.5448322296142578}, the largest scale launched by the Eighth Route Army during the War of Resistance against Japan: {the largest scale launched by the Eighth Route Army during the War of Resistance against Japan: 2.115017890930176, What kind of memory: -1.5275510549545288, memory: -1.526767611503601, We: -2.651488780975342, a special edition of Across China: -1.511002779006958, Across China: -1.7956318855285645, China: -2.3736190795898438, II Landmarks on the Great Earth of China : Eternal Memories of Taihang MountainStanding tall on Taihang Mountain: -1.6911253929138184, the Great Earth: -1.7712128162384033, the Great Earth of China: -1.7104554176330566, China: -2.3469367027282715, Eternal Memories: -1.6881587505340576, Taihang MountainStanding: -1.7421809434890747, Taihang Mountain: -2.038102149963379, the Monument to the Hundred Regiments Offensive: -1.5460017919540405, the Hundred Regiments Offensive: -1.7271993160247803, a primary stele , secondary steles , a huge round sculpture and beacon tower , and the Great Wall , among other things: -1.5209555625915527, secondary steles , a huge round sculpture and beacon tower , and the Great Wall: -1.5482497215270996, a huge round sculpture and beacon tower , and the Great Wall: -1.5502432584762573, beacon tower: -1.5562204122543335, the Great Wall: -1.6736629009246826, other things: -1.5119452476501465, primary stele , three secondary steles , and two inscribed steles .The: -1.5191459655761719, three secondary steles , and two inscribed steles: -1.5648305416107178, two inscribed steles: -1.5316241979599, Hundred Regiments Offensive: -1.5530200004577637, the campaign of the largest scale launched by the Eighth Route Army during the War of Resistance against Japan: -1.5102241039276123}, the Eighth Route Army: {the Eighth Route Army: 1.6653443574905396, What kind of memory: -1.5775082111358643, memory: -1.5855478048324585, We: -2.6003119945526123, a special edition of Across China: -1.554547667503357, Across China: -1.6779022216796875, China: -2.0287625789642334, II Landmarks on the Great Earth of China : Eternal Memories of Taihang MountainStanding tall on Taihang Mountain: -1.8907465934753418, the Great Earth: -1.6676795482635498, the Great Earth of China: -1.5667932033538818, China: -2.1046717166900635, Eternal Memories: -1.640259861946106, Taihang MountainStanding: -1.731560468673706, Taihang Mountain: -2.0412588119506836, the Monument to the Hundred Regiments Offensive: -1.5777792930603027, the Hundred Regiments Offensive: -1.6627237796783447, a primary stele , secondary steles , a huge round sculpture and beacon tower , and the Great Wall , among other things: -1.5810046195983887, secondary steles , a huge round sculpture and beacon tower , and the Great Wall: -1.609503984451294, a huge round sculpture and beacon tower , and the Great Wall: -1.6171882152557373, beacon tower: -1.6052844524383545, the Great Wall: -1.6341962814331055, other things: -1.5628467798233032, primary stele , three secondary steles , and two inscribed steles .The: -1.5855075120925903, three secondary steles , and two inscribed steles: -1.6249374151229858, two inscribed steles: -1.609959602355957, Hundred Regiments Offensive: -1.5829086303710938, the campaign of the largest scale launched by the Eighth Route Army during the War of Resistance against Japan: -1.5723541975021362, the largest scale launched by the Eighth Route Army during the War of Resistance against Japan: -1.5616633892059326}, the War of Resistance against Japan: {the War of Resistance against Japan: 1.9421387910842896, What kind of memory: -1.5572988986968994, memory: -1.5568574666976929, We: -2.260434150695801, a special edition of Across China: -1.5260913372039795, Across China: -1.6814067363739014, China: -2.1347503662109375, II Landmarks on the Great Earth of China : Eternal Memories of Taihang MountainStanding tall on Taihang Mountain: -1.7055037021636963, the Great Earth: -1.6556532382965088, the Great Earth of China: -1.5799838304519653, China: -2.16119122505188, Eternal Memories: -1.6127358675003052, Taihang MountainStanding: -1.7090775966644287, Taihang Mountain: -1.9687302112579346, the Monument to the Hundred Regiments Offensive: -1.5609277486801147, the Hundred Regiments Offensive: -1.6691656112670898, a primary stele , secondary steles , a huge round sculpture and beacon tower , and the Great Wall , among other things: -1.5760245323181152, secondary steles , a huge round sculpture and beacon tower , and the Great Wall: -1.6166911125183105, a huge round sculpture and beacon tower , and the Great Wall: -1.6261489391326904, beacon tower: -1.5741089582443237, the Great Wall: -1.7456198930740356, other things: -1.5445197820663452, primary stele , three secondary steles , and two inscribed steles .The: -1.578300952911377, three secondary steles , and two inscribed steles: -1.6281278133392334, two inscribed steles: -1.6012580394744873, Hundred Regiments Offensive: -1.5628076791763306, the campaign of the largest scale launched by the Eighth Route Army during the War of Resistance against Japan: -1.526776671409607, the largest scale launched by the Eighth Route Army during the War of Resistance against Japan: -1.5233347415924072, the Eighth Route Army: -1.5870124101638794}, Resistance: {Resistance: 1.8893083333969116, What kind of memory: -1.5390416383743286, memory: -1.5585439205169678, We: -2.246577262878418, a special edition of Across China: -1.536239743232727, Across China: -1.80985426902771, China: -1.976851463317871, II Landmarks on the Great Earth of China : Eternal Memories of Taihang MountainStanding tall on Taihang Mountain: -1.693683385848999, the Great Earth: -1.672701120376587, the Great Earth of China: -1.6081433296203613, China: -2.1022396087646484, Eternal Memories: -1.6183199882507324, Taihang MountainStanding: -1.658698320388794, Taihang Mountain: -1.9995391368865967, the Monument to the Hundred Regiments Offensive: -1.580396056175232, the Hundred Regiments Offensive: -1.6424840688705444, a primary stele , secondary steles , a huge round sculpture and beacon tower , and the Great Wall , among other things: -1.5695207118988037, secondary steles , a huge round sculpture and beacon tower , and the Great Wall: -1.5919901132583618, a huge round sculpture and beacon tower , and the Great Wall: -1.5776753425598145, beacon tower: -1.5855772495269775, the Great Wall: -1.6991506814956665, other things: -1.5343266725540161, primary stele , three secondary steles , and two inscribed steles .The: -1.5463507175445557, three secondary steles , and two inscribed steles: -1.6130414009094238, two inscribed steles: -1.5705088376998901, Hundred Regiments Offensive: -1.540869951248169, the campaign of the largest scale launched by the Eighth Route Army during the War of Resistance against Japan: -1.5151886940002441, the largest scale launched by the Eighth Route Army during the War of Resistance against Japan: -1.505960464477539, the Eighth Route Army: -1.555006504058838, the War of Resistance against Japan: -1.5004630088806152}, Japan: {Japan: 2.0675606727600098, What kind of memory: -1.606424331665039, memory: -1.6115400791168213, We: -2.3722479343414307, a special edition of Across China: -1.6340017318725586, Across China: -2.045954465866089, China: -2.3803799152374268, II Landmarks on the Great Earth of China : Eternal Memories of Taihang MountainStanding tall on Taihang Mountain: -1.957730770111084, the Great Earth: -1.9658803939819336, the Great Earth of China: -1.7924257516860962, China: -2.4382150173187256, Eternal Memories: -2.1010007858276367, Taihang MountainStanding: -2.0319573879241943, Taihang Mountain: -2.2254271507263184, the Monument to the Hundred Regiments Offensive: -1.8225339651107788, the Hundred Regiments Offensive: -2.0315611362457275, a primary stele , secondary steles , a huge round sculpture and beacon tower , and the Great Wall , among other things: -1.6649699211120605, secondary steles , a huge round sculpture and beacon tower , and the Great Wall: -1.6832759380340576, a huge round sculpture and beacon tower , and the Great Wall: -1.6989750862121582, beacon tower: -1.7980412244796753, the Great Wall: -2.136922597885132, other things: -1.6377379894256592, primary stele , three secondary steles , and two inscribed steles .The: -1.6579768657684326, three secondary steles , and two inscribed steles: -1.7438349723815918, two inscribed steles: -1.7214419841766357, Hundred Regiments Offensive: -2.0229380130767822, the campaign of the largest scale launched by the Eighth Route Army during the War of Resistance against Japan: -1.6680712699890137, the largest scale launched by the Eighth Route Army during the War of Resistance against Japan: -1.6223869323730469, the Eighth Route Army: -1.8377695083618164, the War of Resistance against Japan: -1.6805468797683716, Resistance: -2.0004169940948486}, campaign: {campaign: 1.824835181236267, What kind of memory: -1.52855384349823, memory: -1.540374517440796, We: -1.9355237483978271, a special edition of Across China: -1.5172923803329468, Across China: -1.8111951351165771, China: -2.2463364601135254, II Landmarks on the Great Earth of China : Eternal Memories of Taihang MountainStanding tall on Taihang Mountain: -1.6884243488311768, the Great Earth: -1.5838901996612549, the Great Earth of China: -1.5719287395477295, China: -2.1387197971343994, Eternal Memories: -1.619100570678711, Taihang MountainStanding: -1.6296041011810303, Taihang Mountain: -2.045969009399414, the Monument to the Hundred Regiments Offensive: -1.5369997024536133, the Hundred Regiments Offensive: -1.6361762285232544, a primary stele , secondary steles , a huge round sculpture and beacon tower , and the Great Wall , among other things: -1.5311743021011353, secondary steles , a huge round sculpture and beacon tower , and the Great Wall: -1.5425105094909668, a huge round sculpture and beacon tower , and the Great Wall: -1.5462114810943604, beacon tower: -1.551470398902893, the Great Wall: -1.671067714691162, other things: -1.5241681337356567, primary stele , three secondary steles , and two inscribed steles .The: -1.519187092781067, three secondary steles , and two inscribed steles: -1.5562022924423218, two inscribed steles: -1.5472418069839478, Hundred Regiments Offensive: -1.537100076675415, the campaign of the largest scale launched by the Eighth Route Army during the War of Resistance against Japan: -1.454713225364685, the largest scale launched by the Eighth Route Army during the War of Resistance against Japan: -1.5094963312149048, the Eighth Route Army: -1.5909503698349, the War of Resistance against Japan: -1.5313111543655396, Resistance: -1.575924277305603, Japan: -2.237976312637329}, Japanese: {Japanese: 3.024013042449951, What kind of memory: -1.5474848747253418, memory: -1.5606240034103394, We: -2.1465401649475098, a special edition of Across China: -1.5488858222961426, Across China: -1.7945365905761719, China: -1.8192709684371948, II Landmarks on the Great Earth of China : Eternal Memories of Taihang MountainStanding tall on Taihang Mountain: -1.6917767524719238, the Great Earth: -1.5925612449645996, the Great Earth of China: -1.5728387832641602, China: -2.108220100402832, Eternal Memories: -1.6006076335906982, Taihang MountainStanding: -1.6804732084274292, Taihang Mountain: -1.896812915802002, the Monument to the Hundred Regiments Offensive: -1.6183953285217285, the Hundred Regiments Offensive: -1.7196110486984253, a primary stele , secondary steles , a huge round sculpture and beacon tower , and the Great Wall , among other things: -1.6145076751708984, secondary steles , a huge round sculpture and beacon tower , and the Great Wall: -1.6481999158859253, a huge round sculpture and beacon tower , and the Great Wall: -1.6309349536895752, beacon tower: -1.6183414459228516, the Great Wall: -1.7037091255187988, other things: -1.5588160753250122, primary stele , three secondary steles , and two inscribed steles .The: -1.576935887336731, three secondary steles , and two inscribed steles: -1.6767889261245728, two inscribed steles: -1.6229312419891357, Hundred Regiments Offensive: -1.6847963333129883, the campaign of the largest scale launched by the Eighth Route Army during the War of Resistance against Japan: -1.5670835971832275, the largest scale launched by the Eighth Route Army during the War of Resistance against Japan: -1.5567213296890259, the Eighth Route Army: -1.603795051574707, the War of Resistance against Japan: -1.5414479970932007, Resistance: -1.6591784954071045, Japan: -2.1116795539855957, campaign: -1.5368965864181519}, the Japanese army: {the Japanese army: 1.785049557685852, What kind of memory: -1.5525060892105103, memory: -1.5434547662734985, We: -2.5937297344207764, a special edition of Across China: -1.5258644819259644, Across China: -1.6800410747528076, China: -2.019962787628174, II Landmarks on the Great Earth of China : Eternal Memories of Taihang MountainStanding tall on Taihang Mountain: -1.8421554565429688, the Great Earth: -1.6102204322814941, the Great Earth of China: -1.5757511854171753, China: -1.9628485441207886, Eternal Memories: -1.6341689825057983, Taihang MountainStanding: -1.633175253868103, Taihang Mountain: -1.980635404586792, the Monument to the Hundred Regiments Offensive: -1.5916409492492676, the Hundred Regiments Offensive: -1.6248241662979126, a primary stele , secondary steles , a huge round sculpture and beacon tower , and the Great Wall , among other things: -1.5585458278656006, secondary steles , a huge round sculpture and beacon tower , and the Great Wall: -1.6149930953979492, a huge round sculpture and beacon tower , and the Great Wall: -1.6106998920440674, beacon tower: -1.5719422101974487, the Great Wall: -1.5949301719665527, other things: -1.536637544631958, primary stele , three secondary steles , and two inscribed steles .The: -1.5644289255142212, three secondary steles , and two inscribed steles: -1.6150641441345215, two inscribed steles: -1.5734585523605347, Hundred Regiments Offensive: -1.608611822128296, the campaign of the largest scale launched by the Eighth Route Army during the War of Resistance against Japan: -1.497455358505249, the largest scale launched by the Eighth Route Army during the War of Resistance against Japan: -1.506505012512207, the Eighth Route Army: 1.278775691986084, the War of Resistance against Japan: -1.5401297807693481, Resistance: -1.6176669597625732, Japan: -2.2439088821411133, campaign: -1.5515509843826294, Japanese: -1.6357325315475464}, the Japanese army 's blockade: {the Japanese army 's blockade: 1.6865414381027222, What kind of memory: -1.584722638130188, memory: -1.5498688220977783, We: -2.7819581031799316, a special edition of Across China: -1.5260416269302368, Across China: -1.8044195175170898, China: -2.2678380012512207, II Landmarks on the Great Earth of China : Eternal Memories of Taihang MountainStanding tall on Taihang Mountain: -1.803791880607605, the Great Earth: -1.6222119331359863, the Great Earth of China: -1.602392315864563, China: -2.1889138221740723, Eternal Memories: -1.7393486499786377, Taihang MountainStanding: -1.6694543361663818, Taihang Mountain: -1.918304681777954, the Monument to the Hundred Regiments Offensive: -1.5787205696105957, the Hundred Regiments Offensive: -1.667145013809204, a primary stele , secondary steles , a huge round sculpture and beacon tower , and the Great Wall , among other things: -1.5486587285995483, secondary steles , a huge round sculpture and beacon tower , and the Great Wall: -1.6107919216156006, a huge round sculpture and beacon tower , and the Great Wall: -1.6072964668273926, beacon tower: -1.5478779077529907, the Great Wall: -1.772099256515503, other things: -1.546494483947754, primary stele , three secondary steles , and two inscribed steles .The: -1.5511842966079712, three secondary steles , and two inscribed steles: -1.6120409965515137, two inscribed steles: -1.5669351816177368, Hundred Regiments Offensive: -1.571302890777588, the campaign of the largest scale launched by the Eighth Route Army during the War of Resistance against Japan: -1.523213505744934, the largest scale launched by the Eighth Route Army during the War of Resistance against Japan: -1.5318530797958374, the Eighth Route Army: -1.5697492361068726, the War of Resistance against Japan: -1.5972974300384521, Resistance: -1.722313642501831, Japan: -2.3496644496917725, campaign: -1.5675415992736816, Japanese: -1.6553518772125244, the Japanese army: -1.5305017232894897}, base areas behind enemy lines: {base areas behind enemy lines: 1.7513834238052368, What kind of memory: -1.5296056270599365, memory: -1.5220067501068115, We: -2.258016586303711, a special edition of Across China: -1.50930917263031, Across China: -1.669901967048645, China: -2.236785411834717, II Landmarks on the Great Earth of China : Eternal Memories of Taihang MountainStanding tall on Taihang Mountain: -1.7038922309875488, the Great Earth: -1.6163923740386963, the Great Earth of China: -1.6398662328720093, China: -2.065424919128418, Eternal Memories: -1.6491960287094116, Taihang MountainStanding: -1.560693621635437, Taihang Mountain: -1.7558107376098633, the Monument to the Hundred Regiments Offensive: -1.614414930343628, the Hundred Regiments Offensive: -1.831207036972046, a primary stele , secondary steles , a huge round sculpture and beacon tower , and the Great Wall , among other things: -1.5397182703018188, secondary steles , a huge round sculpture and beacon tower , and the Great Wall: -1.5529327392578125, a huge round sculpture and beacon tower , and the Great Wall: -1.553362488746643, beacon tower: -1.5310958623886108, the Great Wall: -1.6816238164901733, other things: -1.5178231000900269, primary stele , three secondary steles , and two inscribed steles .The: -1.524993658065796, three secondary steles , and two inscribed steles: -1.5530643463134766, two inscribed steles: -1.5276551246643066, Hundred Regiments Offensive: -1.6004704236984253, the campaign of the largest scale launched by the Eighth Route Army during the War of Resistance against Japan: -1.5483616590499878, the largest scale launched by the Eighth Route Army during the War of Resistance against Japan: -1.5114885568618774, the Eighth Route Army: -1.7154114246368408, the War of Resistance against Japan: -1.5857036113739014, Resistance: -1.5906744003295898, Japan: -2.1881966590881348, campaign: -1.5584394931793213, Japanese: -1.7000579833984375, the Japanese army: -1.5701050758361816, the Japanese army 's blockade: -1.5570696592330933}, enemy lines: {enemy lines: 1.8508144617080688, What kind of memory: -1.5157493352890015, memory: -1.5130997896194458, We: -2.3406615257263184, a special edition of Across China: -1.5081787109375, Across China: -1.788823127746582, China: -2.3780577182769775, II Landmarks on the Great Earth of China : Eternal Memories of Taihang MountainStanding tall on Taihang Mountain: -1.9464901685714722, the Great Earth: -1.7308273315429688, the Great Earth of China: -1.7361778020858765, China: -2.232809543609619, Eternal Memories: -1.8272221088409424, Taihang MountainStanding: -1.6053268909454346, Taihang Mountain: -1.846549391746521, the Monument to the Hundred Regiments Offensive: -1.689667820930481, the Hundred Regiments Offensive: -2.006810426712036, a primary stele , secondary steles , a huge round sculpture and beacon tower , and the Great Wall , among other things: -1.5645941495895386, secondary steles , a huge round sculpture and beacon tower , and the Great Wall: -1.5761762857437134, a huge round sculpture and beacon tower , and the Great Wall: -1.5785043239593506, beacon tower: -1.5306986570358276, the Great Wall: -1.9341404438018799, other things: -1.5154696702957153, primary stele , three secondary steles , and two inscribed steles .The: -1.524841547012329, three secondary steles , and two inscribed steles: -1.5783584117889404, two inscribed steles: -1.5443644523620605, Hundred Regiments Offensive: -1.7143056392669678, the campaign of the largest scale launched by the Eighth Route Army during the War of Resistance against Japan: -1.6112353801727295, the largest scale launched by the Eighth Route Army during the War of Resistance against Japan: -1.5245455503463745, the Eighth Route Army: -1.798019289970398, the War of Resistance against Japan: -1.6610636711120605, Resistance: -1.647929310798645, Japan: -2.332671880722046, campaign: -1.569362759590149, Japanese: -1.7853895425796509, the Japanese army: -1.5728086233139038, the Japanese army 's blockade: -1.5555317401885986, base areas behind enemy lines: -1.5136030912399292}, anti-Japanese: {anti-Japanese: 1.8901535272598267, What kind of memory: -1.5660594701766968, memory: -1.5622422695159912, We: -2.1922008991241455, a special edition of Across China: -1.547905445098877, Across China: -1.7062232494354248, China: -1.9090745449066162, II Landmarks on the Great Earth of China : Eternal Memories of Taihang MountainStanding tall on Taihang Mountain: -1.655015468597412, the Great Earth: -1.6364033222198486, the Great Earth of China: -1.5980651378631592, China: -2.1532297134399414, Eternal Memories: -1.600029468536377, Taihang MountainStanding: -1.6176267862319946, Taihang Mountain: -1.9078705310821533, the Monument to the Hundred Regiments Offensive: -1.596107006072998, the Hundred Regiments Offensive: -1.6852443218231201, a primary stele , secondary steles , a huge round sculpture and beacon tower , and the Great Wall , among other things: -1.627999186515808, secondary steles , a huge round sculpture and beacon tower , and the Great Wall: -1.6491754055023193, a huge round sculpture and beacon tower , and the Great Wall: -1.636904239654541, beacon tower: -1.6358085870742798, the Great Wall: -1.663374423980713, other things: -1.5657168626785278, primary stele , three secondary steles , and two inscribed steles .The: -1.6043877601623535, three secondary steles , and two inscribed steles: -1.6784812211990356, two inscribed steles: -1.6276241540908813, Hundred Regiments Offensive: -1.6420007944107056, the campaign of the largest scale launched by the Eighth Route Army during the War of Resistance against Japan: -1.5435672998428345, the largest scale launched by the Eighth Route Army during the War of Resistance against Japan: -1.55484938621521, the Eighth Route Army: -1.6152722835540771, the War of Resistance against Japan: -1.5418204069137573, Resistance: -1.6076338291168213, Japan: -2.046811580657959, campaign: -1.5312838554382324, Japanese: -1.4891093969345093, the Japanese army: -1.5498427152633667, the Japanese army 's blockade: -1.549519419670105, base areas behind enemy lines: -1.6326732635498047, enemy lines: -1.5835739374160767}, anti-Japanese spirit: {anti-Japanese spirit: 1.7525380849838257, What kind of memory: -1.5227397680282593, memory: -1.5253585577011108, We: -2.104919910430908, a special edition of Across China: -1.506825566291809, Across China: -1.7349661588668823, China: -2.4395318031311035, II Landmarks on the Great Earth of China : Eternal Memories of Taihang MountainStanding tall on Taihang Mountain: -1.6023117303848267, the Great Earth: -1.6370506286621094, the Great Earth of China: -1.5963804721832275, China: -2.264530897140503, Eternal Memories: -1.6361058950424194, Taihang MountainStanding: -1.6028053760528564, Taihang Mountain: -1.8456956148147583, the Monument to the Hundred Regiments Offensive: -1.556985855102539, the Hundred Regiments Offensive: -1.60880708694458, a primary stele , secondary steles , a huge round sculpture and beacon tower , and the Great Wall , among other things: -1.5320870876312256, secondary steles , a huge round sculpture and beacon tower , and the Great Wall: -1.562700867652893, a huge round sculpture and beacon tower , and the Great Wall: -1.5563372373580933, beacon tower: -1.5378085374832153, the Great Wall: -1.6115028858184814, other things: -1.5223989486694336, primary stele , three secondary steles , and two inscribed steles .The: -1.531252145767212, three secondary steles , and two inscribed steles: -1.5792813301086426, two inscribed steles: -1.5518850088119507, Hundred Regiments Offensive: -1.5333337783813477, the campaign of the largest scale launched by the Eighth Route Army during the War of Resistance against Japan: -1.5253385305404663, the largest scale launched by the Eighth Route Army during the War of Resistance against Japan: -1.5158417224884033, the Eighth Route Army: -1.6149532794952393, the War of Resistance against Japan: -1.5510680675506592, Resistance: -1.6843092441558838, Japan: -2.414884328842163, campaign: -1.5285078287124634, Japanese: -1.6837291717529297, the Japanese army: -1.5336190462112427, the Japanese army 's blockade: -1.506061315536499, base areas behind enemy lines: -1.552564263343811, enemy lines: -1.5316907167434692, anti-Japanese: -1.5139387845993042}, the nation: {the nation: 0.41376829147338867, What kind of memory: -1.6024998426437378, memory: -1.5704964399337769, We: -2.002358913421631, a special edition of Across China: -1.5843640565872192, Across China: -1.459248661994934, China: 1.7420837879180908, II Landmarks on the Great Earth of China : Eternal Memories of Taihang MountainStanding tall on Taihang Mountain: -1.7557172775268555, the Great Earth: -1.6322402954101562, the Great Earth of China: -1.5875341892242432, China: 0.33232784271240234, Eternal Memories: -1.7569741010665894, Taihang MountainStanding: -1.7045832872390747, Taihang Mountain: -1.7661653757095337, the Monument to the Hundred Regiments Offensive: -1.7228899002075195, the Hundred Regiments Offensive: -1.7221587896347046, a primary stele , secondary steles , a huge round sculpture and beacon tower , and the Great Wall , among other things: -1.6316888332366943, secondary steles , a huge round sculpture and beacon tower , and the Great Wall: -1.6857855319976807, a huge round sculpture and beacon tower , and the Great Wall: -1.7144889831542969, beacon tower: -1.6755187511444092, the Great Wall: -1.799452304840088, other things: -1.5882700681686401, primary stele , three secondary steles , and two inscribed steles .The: -1.6286976337432861, three secondary steles , and two inscribed steles: -1.6948660612106323, two inscribed steles: -1.666373372077942, Hundred Regiments Offensive: -1.7247004508972168, the campaign of the largest scale launched by the Eighth Route Army during the War of Resistance against Japan: -1.591832160949707, the largest scale launched by the Eighth Route Army during the War of Resistance against Japan: -1.5968613624572754, the Eighth Route Army: -1.764339566230774, the War of Resistance against Japan: -1.6236183643341064, Resistance: -1.593935489654541, Japan: -1.6858199834823608, campaign: -1.5871576070785522, Japanese: -1.7187819480895996, the Japanese army: -1.7709587812423706, the Japanese army 's blockade: -1.6765224933624268, base areas behind enemy lines: -1.6207756996154785, enemy lines: -1.5947779417037964, anti-Japanese: -1.8074913024902344, anti-Japanese spirit: -1.6549769639968872}, the situation of the anti-fascist war of the people worldwide: {the situation of the anti-fascist war of the people worldwide: 1.940818428993225, What kind of memory: -1.5238021612167358, memory: -1.523444652557373, We: -2.4770426750183105, a special edition of Across China: -1.5072665214538574, Across China: -1.8172870874404907, China: -2.4196958541870117, II Landmarks on the Great Earth of China : Eternal Memories of Taihang MountainStanding tall on Taihang Mountain: -1.6613919734954834, the Great Earth: -1.7566787004470825, the Great Earth of China: -1.6732335090637207, China: -2.3027470111846924, Eternal Memories: -1.6504309177398682, Taihang MountainStanding: -1.665825605392456, Taihang Mountain: -1.9224309921264648, the Monument to the Hundred Regiments Offensive: -1.5578815937042236, the Hundred Regiments Offensive: -1.6318732500076294, a primary stele , secondary steles , a huge round sculpture and beacon tower , and the Great Wall , among other things: -1.5262259244918823, secondary steles , a huge round sculpture and beacon tower , and the Great Wall: -1.5639406442642212, a huge round sculpture and beacon tower , and the Great Wall: -1.566512107849121, beacon tower: -1.541165828704834, the Great Wall: -1.6270095109939575, other things: -1.5191495418548584, primary stele , three secondary steles , and two inscribed steles .The: -1.534243106842041, three secondary steles , and two inscribed steles: -1.5716465711593628, two inscribed steles: -1.5481611490249634, Hundred Regiments Offensive: -1.595409631729126, the campaign of the largest scale launched by the Eighth Route Army during the War of Resistance against Japan: -1.5165221691131592, the largest scale launched by the Eighth Route Army during the War of Resistance against Japan: -1.5065407752990723, the Eighth Route Army: -1.667568325996399, the War of Resistance against Japan: -1.563110589981079, Resistance: -1.6899118423461914, Japan: -2.2071373462677, campaign: -1.545413613319397, Japanese: -1.7760353088378906, the Japanese army: -1.5890371799468994, the Japanese army 's blockade: -1.526654839515686, base areas behind enemy lines: -1.5455923080444336, enemy lines: -1.535934329032898, anti-Japanese: -1.644565463066101, anti-Japanese spirit: -1.5223482847213745, the nation: -1.9540534019470215}, the anti-fascist war of the people worldwide: {the anti-fascist war of the people worldwide: 2.048490524291992, What kind of memory: -1.5381475687026978, memory: -1.5313067436218262, We: -2.543893814086914, a special edition of Across China: -1.508745551109314, Across China: -1.8073304891586304, China: -2.4038028717041016, II Landmarks on the Great Earth of China : Eternal Memories of Taihang MountainStanding tall on Taihang Mountain: -1.62638521194458, the Great Earth: -1.6633507013320923, the Great Earth of China: -1.6189261674880981, China: -2.3074140548706055, Eternal Memories: -1.6154236793518066, Taihang MountainStanding: -1.6174592971801758, Taihang Mountain: -1.9009196758270264, the Monument to the Hundred Regiments Offensive: -1.5522966384887695, the Hundred Regiments Offensive: -1.637437343597412, a primary stele , secondary steles , a huge round sculpture and beacon tower , and the Great Wall , among other things: -1.5352383852005005, secondary steles , a huge round sculpture and beacon tower , and the Great Wall: -1.5726370811462402, a huge round sculpture and beacon tower , and the Great Wall: -1.57272207736969, beacon tower: -1.555579662322998, the Great Wall: -1.6114243268966675, other things: -1.5206811428070068, primary stele , three secondary steles , and two inscribed steles .The: -1.5353690385818481, three secondary steles , and two inscribed steles: -1.589218020439148, two inscribed steles: -1.548400640487671, Hundred Regiments Offensive: -1.5745254755020142, the campaign of the largest scale launched by the Eighth Route Army during the War of Resistance against Japan: -1.529482364654541, the largest scale launched by the Eighth Route Army during the War of Resistance against Japan: -1.5142240524291992, the Eighth Route Army: -1.62263822555542, the War of Resistance against Japan: -1.4212347269058228, Resistance: -1.5991175174713135, Japan: -2.2034716606140137, campaign: -1.5276083946228027, Japanese: -1.717519760131836, the Japanese army: -1.56476891040802, the Japanese army 's blockade: -1.526369333267212, base areas behind enemy lines: -1.548315405845642, enemy lines: -1.5381768941879272, anti-Japanese: -1.5690499544143677, anti-Japanese spirit: -1.5353174209594727, the nation: -1.7910609245300293, the situation of the anti-fascist war of the people worldwide: -1.5265908241271973}, the people worldwide: {the people worldwide: 1.803768277168274, What kind of memory: -1.536307454109192, memory: -1.5349527597427368, We: -2.472188949584961, a special edition of Across China: -1.5299657583236694, Across China: -1.91970956325531, China: -2.6677122116088867, II Landmarks on the Great Earth of China : Eternal Memories of Taihang MountainStanding tall on Taihang Mountain: -1.848232388496399, the Great Earth: -1.7823777198791504, the Great Earth of China: -1.7456645965576172, China: -2.4562573432922363, Eternal Memories: -1.7933523654937744, Taihang MountainStanding: -1.6563799381256104, Taihang Mountain: -2.1847615242004395, the Monument to the Hundred Regiments Offensive: -1.6314865350723267, the Hundred Regiments Offensive: -1.9849486351013184, a primary stele , secondary steles , a huge round sculpture and beacon tower , and the Great Wall , among other things: -1.5641719102859497, secondary steles , a huge round sculpture and beacon tower , and the Great Wall: -1.5792205333709717, a huge round sculpture and beacon tower , and the Great Wall: -1.5867328643798828, beacon tower: -1.5716235637664795, the Great Wall: -1.8184494972229004, other things: -1.5202902555465698, primary stele , three secondary steles , and two inscribed steles .The: -1.5559457540512085, three secondary steles , and two inscribed steles: -1.592814564704895, two inscribed steles: -1.551866888999939, Hundred Regiments Offensive: -1.8599011898040771, the campaign of the largest scale launched by the Eighth Route Army during the War of Resistance against Japan: -1.5262317657470703, the largest scale launched by the Eighth Route Army during the War of Resistance against Japan: -1.5067763328552246, the Eighth Route Army: -1.807439923286438, the War of Resistance against Japan: -1.5997159481048584, Resistance: -1.7414755821228027, Japan: -2.322165012359619, campaign: -1.616133213043213, Japanese: -1.7535555362701416, the Japanese army: -1.680579423904419, the Japanese army 's blockade: -1.546978235244751, base areas behind enemy lines: -1.541074275970459, enemy lines: -1.5250383615493774, anti-Japanese: -1.7257540225982666, anti-Japanese spirit: -1.5576046705245972, the nation: -1.965172529220581, the situation of the anti-fascist war of the people worldwide: -1.5212594270706177, the anti-fascist war of the people worldwide: -1.5166935920715332}, Zhuanbi Village: {Zhuanbi Village: 2.489769458770752, What kind of memory: -1.5781869888305664, memory: -1.5648363828659058, We: -2.0901098251342773, a special edition of Across China: -1.5490654706954956, Across China: -1.6972922086715698, China: -2.0533945560455322, II Landmarks on the Great Earth of China : Eternal Memories of Taihang MountainStanding tall on Taihang Mountain: -1.7022488117218018, the Great Earth: -1.6467125415802002, the Great Earth of China: -1.7006983757019043, China: -2.0164427757263184, Eternal Memories: -1.6013364791870117, Taihang MountainStanding: -1.5838872194290161, Taihang Mountain: -1.669586181640625, the Monument to the Hundred Regiments Offensive: -1.5926942825317383, the Hundred Regiments Offensive: -1.88192880153656, a primary stele , secondary steles , a huge round sculpture and beacon tower , and the Great Wall , among other things: -1.590686321258545, secondary steles , a huge round sculpture and beacon tower , and the Great Wall: -1.593606948852539, a huge round sculpture and beacon tower , and the Great Wall: -1.590043306350708, beacon tower: -1.562167763710022, the Great Wall: -1.757529854774475, other things: -1.5576926469802856, primary stele , three secondary steles , and two inscribed steles .The: -1.5461628437042236, three secondary steles , and two inscribed steles: -1.6131365299224854, two inscribed steles: -1.5875287055969238, Hundred Regiments Offensive: -1.5773056745529175, the campaign of the largest scale launched by the Eighth Route Army during the War of Resistance against Japan: -1.6127684116363525, the largest scale launched by the Eighth Route Army during the War of Resistance against Japan: -1.555620789527893, the Eighth Route Army: -1.6330454349517822, the War of Resistance against Japan: -1.5747718811035156, Resistance: -1.6242324113845825, Japan: -1.9825763702392578, campaign: -1.5406014919281006, Japanese: -1.6119954586029053, the Japanese army: -1.539047122001648, the Japanese army 's blockade: -1.529258370399475, base areas behind enemy lines: -1.5431228876113892, enemy lines: -1.5447425842285156, anti-Japanese: -1.5887341499328613, anti-Japanese spirit: -1.5363807678222656, the nation: -1.5885131359100342, the situation of the anti-fascist war of the people worldwide: -1.5227034091949463, the anti-fascist war of the people worldwide: -1.5234324932098389, the people worldwide: -1.5328389406204224}, Zhuanbi Village , Wuxiang County of Shanxi Province , where the Eighth Route Army was headquartered back then: {Zhuanbi Village , Wuxiang County of Shanxi Province , where the Eighth Route Army was headquartered back then: 2.335592746734619, What kind of memory: -1.5486088991165161, memory: -1.5389131307601929, We: -2.398178815841675, a special edition of Across China: -1.5280448198318481, Across China: -1.686342477798462, China: -2.3164494037628174, II Landmarks on the Great Earth of China : Eternal Memories of Taihang MountainStanding tall on Taihang Mountain: -1.851245403289795, the Great Earth: -1.7971510887145996, the Great Earth of China: -1.7738490104675293, China: -2.218107223510742, Eternal Memories: -1.6433110237121582, Taihang MountainStanding: -1.596297025680542, Taihang Mountain: -1.9058171510696411, the Monument to the Hundred Regiments Offensive: -1.6181931495666504, the Hundred Regiments Offensive: -1.9179966449737549, a primary stele , secondary steles , a huge round sculpture and beacon tower , and the Great Wall , among other things: -1.5568292140960693, secondary steles , a huge round sculpture and beacon tower , and the Great Wall: -1.5608097314834595, a huge round sculpture and beacon tower , and the Great Wall: -1.5607227087020874, beacon tower: -1.5503220558166504, the Great Wall: -1.6044702529907227, other things: -1.5183154344558716, primary stele , three secondary steles , and two inscribed steles .The: -1.52754545211792, three secondary steles , and two inscribed steles: -1.586125373840332, two inscribed steles: -1.5520004034042358, Hundred Regiments Offensive: -1.8020753860473633, the campaign of the largest scale launched by the Eighth Route Army during the War of Resistance against Japan: -1.6058223247528076, the largest scale launched by the Eighth Route Army during the War of Resistance against Japan: -1.5197241306304932, the Eighth Route Army: -1.709885835647583, the War of Resistance against Japan: -1.591835856437683, Resistance: -1.6076672077178955, Japan: -2.0842175483703613, campaign: -1.5471101999282837, Japanese: -1.7232292890548706, the Japanese army: -1.586085319519043, the Japanese army 's blockade: -1.6040632724761963, base areas behind enemy lines: -1.5370769500732422, enemy lines: -1.5261011123657227, anti-Japanese: -1.6131095886230469, anti-Japanese spirit: -1.5548245906829834, the nation: -1.6961196660995483, the situation of the anti-fascist war of the people worldwide: -1.5059595108032227, the anti-fascist war of the people worldwide: -1.5087816715240479, the people worldwide: -1.504215955734253, Zhuanbi Village: -1.5047203302383423}, Wuxiang County of Shanxi Province: {Wuxiang County of Shanxi Province: 1.8585609197616577, What kind of memory: -1.579610824584961, memory: -1.5698792934417725, We: -1.8320555686950684, a special edition of Across China: -1.5559378862380981, Across China: -1.6667275428771973, China: -2.063061237335205, II Landmarks on the Great Earth of China : Eternal Memories of Taihang MountainStanding tall on Taihang Mountain: -1.689035415649414, the Great Earth: -1.678478717803955, the Great Earth of China: -1.6601990461349487, China: -1.9486799240112305, Eternal Memories: -1.6405178308486938, Taihang MountainStanding: -1.6053047180175781, Taihang Mountain: -1.6794183254241943, the Monument to the Hundred Regiments Offensive: -1.5855480432510376, the Hundred Regiments Offensive: -1.690274715423584, a primary stele , secondary steles , a huge round sculpture and beacon tower , and the Great Wall , among other things: -1.6080472469329834, secondary steles , a huge round sculpture and beacon tower , and the Great Wall: -1.610071063041687, a huge round sculpture and beacon tower , and the Great Wall: -1.6031413078308105, beacon tower: -1.5905582904815674, the Great Wall: -1.6467196941375732, other things: -1.564395785331726, primary stele , three secondary steles , and two inscribed steles .The: -1.5607649087905884, three secondary steles , and two inscribed steles: -1.6115665435791016, two inscribed steles: -1.5804616212844849, Hundred Regiments Offensive: -1.5803886651992798, the campaign of the largest scale launched by the Eighth Route Army during the War of Resistance against Japan: -1.5942449569702148, the largest scale launched by the Eighth Route Army during the War of Resistance against Japan: -1.5593419075012207, the Eighth Route Army: -1.6012264490127563, the War of Resistance against Japan: -1.5872782468795776, Resistance: -1.6276066303253174, Japan: -1.8900165557861328, campaign: -1.5424385070800781, Japanese: -1.6281979084014893, the Japanese army: -1.556498646736145, the Japanese army 's blockade: -1.5475802421569824, base areas behind enemy lines: -1.5646603107452393, enemy lines: -1.5695115327835083, anti-Japanese: -1.5613254308700562, anti-Japanese spirit: -1.5504926443099976, the nation: -1.5823875665664673, the situation of the anti-fascist war of the people worldwide: -1.5351495742797852, the anti-fascist war of the people worldwide: -1.538181185722351, the people worldwide: -1.5386813879013062, Zhuanbi Village: -1.5276610851287842, Zhuanbi Village , Wuxiang County of Shanxi Province , where the Eighth Route Army was headquartered back then: -1.5116289854049683}, Shanxi Province: {Shanxi Province: 1.6380313634872437, What kind of memory: -1.6580133438110352, memory: -1.6434926986694336, We: -2.0311954021453857, a special edition of Across China: -1.6072275638580322, Across China: -1.7545714378356934, China: -2.1978588104248047, II Landmarks on the Great Earth of China : Eternal Memories of Taihang MountainStanding tall on Taihang Mountain: -1.8973009586334229, the Great Earth: -1.821004033088684, the Great Earth of China: -1.688596487045288, China: -2.1350045204162598, Eternal Memories: -1.8689751625061035, Taihang MountainStanding: -1.9344127178192139, Taihang Mountain: -2.0610427856445312, the Monument to the Hundred Regiments Offensive: -1.7071831226348877, the Hundred Regiments Offensive: -1.863631248474121, a primary stele , secondary steles , a huge round sculpture and beacon tower , and the Great Wall , among other things: -1.69281005859375, secondary steles , a huge round sculpture and beacon tower , and the Great Wall: -1.694371223449707, a huge round sculpture and beacon tower , and the Great Wall: -1.7144736051559448, beacon tower: -1.7625014781951904, the Great Wall: -2.0118415355682373, other things: -1.64023756980896, primary stele , three secondary steles , and two inscribed steles .The: -1.6128164529800415, three secondary steles , and two inscribed steles: -1.7132868766784668, two inscribed steles: -1.6889939308166504, Hundred Regiments Offensive: -1.7211589813232422, the campaign of the largest scale launched by the Eighth Route Army during the War of Resistance against Japan: -1.7452161312103271, the largest scale launched by the Eighth Route Army during the War of Resistance against Japan: -1.652424931526184, the Eighth Route Army: -1.7490192651748657, the War of Resistance against Japan: -1.760440707206726, Resistance: -1.881782054901123, Japan: -2.2131240367889404, campaign: -1.6159284114837646, Japanese: -1.7917547225952148, the Japanese army: -1.6587696075439453, the Japanese army 's blockade: -1.6482435464859009, base areas behind enemy lines: -1.6225996017456055, enemy lines: -1.6353321075439453, anti-Japanese: -1.7285687923431396, anti-Japanese spirit: -1.643376350402832, the nation: -1.7925357818603516, the situation of the anti-fascist war of the people worldwide: -1.6174488067626953, the anti-fascist war of the people worldwide: -1.6095795631408691, the people worldwide: -1.6120641231536865, Zhuanbi Village: -1.5637617111206055, Zhuanbi Village , Wuxiang County of Shanxi Province , where the Eighth Route Army was headquartered back then: -1.55352783203125, Wuxiang County of Shanxi Province: -1.508542537689209}, the Eighth Route Army: {the Eighth Route Army: 1.7157303094863892, What kind of memory: -1.6102197170257568, memory: -1.6209083795547485, We: -2.350137710571289, a special edition of Across China: -1.5779266357421875, Across China: -1.9526965618133545, China: -2.355715274810791, II Landmarks on the Great Earth of China : Eternal Memories of Taihang MountainStanding tall on Taihang Mountain: -1.9779423475265503, the Great Earth: -1.8129228353500366, the Great Earth of China: -1.6368048191070557, China: -2.3400087356567383, Eternal Memories: -1.7540479898452759, Taihang MountainStanding: -1.8290455341339111, Taihang Mountain: -2.180338144302368, the Monument to the Hundred Regiments Offensive: -1.6492483615875244, the Hundred Regiments Offensive: -1.8321377038955688, a primary stele , secondary steles , a huge round sculpture and beacon tower , and the Great Wall , among other things: -1.6059472560882568, secondary steles , a huge round sculpture and beacon tower , and the Great Wall: -1.6383920907974243, a huge round sculpture and beacon tower , and the Great Wall: -1.6453982591629028, beacon tower: -1.6358449459075928, the Great Wall: -1.7384836673736572, other things: -1.5870157480239868, primary stele , three secondary steles , and two inscribed steles .The: -1.6165589094161987, three secondary steles , and two inscribed steles: -1.655414342880249, two inscribed steles: -1.6338446140289307, Hundred Regiments Offensive: -1.7392239570617676, the campaign of the largest scale launched by the Eighth Route Army during the War of Resistance against Japan: -1.6931685209274292, the largest scale launched by the Eighth Route Army during the War of Resistance against Japan: -1.6033878326416016, the Eighth Route Army: 6.363489151000977, the War of Resistance against Japan: -1.6712583303451538, Resistance: -1.7049449682235718, Japan: -2.285717725753784, campaign: -1.6443748474121094, Japanese: -2.0095324516296387, the Japanese army: -0.6997202634811401, the Japanese army 's blockade: -1.6919620037078857, base areas behind enemy lines: -1.5962376594543457, enemy lines: -1.5850814580917358, anti-Japanese: -1.768449306488037, anti-Japanese spirit: -1.6155846118927002, the nation: -1.898782730102539, the situation of the anti-fascist war of the people worldwide: -1.590078592300415, the anti-fascist war of the people worldwide: -1.601670503616333, the people worldwide: -1.697467565536499, Zhuanbi Village: -1.5594518184661865, Zhuanbi Village , Wuxiang County of Shanxi Province , where the Eighth Route Army was headquartered back then: -1.5657943487167358, Wuxiang County of Shanxi Province: -1.537477970123291, Shanxi Province: -1.7489548921585083}, a wall outside the headquarter: {a wall outside the headquarter: 1.6450337171554565, What kind of memory: -1.5182785987854004, memory: -1.5211726427078247, We: -2.446777582168579, a special edition of Across China: -1.5182887315750122, Across China: -1.9242496490478516, China: -2.6285383701324463, II Landmarks on the Great Earth of China : Eternal Memories of Taihang MountainStanding tall on Taihang Mountain: -1.8668220043182373, the Great Earth: -1.7498712539672852, the Great Earth of China: -1.7221832275390625, China: -2.547757625579834, Eternal Memories: -1.6342763900756836, Taihang MountainStanding: -1.7079046964645386, Taihang Mountain: -1.9309918880462646, the Monument to the Hundred Regiments Offensive: -1.6017189025878906, the Hundred Regiments Offensive: -2.0053837299346924, a primary stele , secondary steles , a huge round sculpture and beacon tower , and the Great Wall , among other things: -1.5154063701629639, secondary steles , a huge round sculpture and beacon tower , and the Great Wall: -1.5148582458496094, a huge round sculpture and beacon tower , and the Great Wall: -1.5142085552215576, beacon tower: -1.5312590599060059, the Great Wall: -1.4688640832901, other things: -1.5166963338851929, primary stele , three secondary steles , and two inscribed steles .The: -1.5099257230758667, three secondary steles , and two inscribed steles: -1.5517947673797607, two inscribed steles: -1.5230755805969238, Hundred Regiments Offensive: -1.6205304861068726, the campaign of the largest scale launched by the Eighth Route Army during the War of Resistance against Japan: -1.5581237077713013, the largest scale launched by the Eighth Route Army during the War of Resistance against Japan: -1.5268625020980835, the Eighth Route Army: -1.6723252534866333, the War of Resistance against Japan: -1.5991828441619873, Resistance: -1.7047460079193115, Japan: -2.315155029296875, campaign: -1.529265284538269, Japanese: -1.8858585357666016, the Japanese army: -1.6062116622924805, the Japanese army 's blockade: -1.5337222814559937, base areas behind enemy lines: -1.5453380346298218, enemy lines: -1.5419546365737915, anti-Japanese: -1.6832196712493896, anti-Japanese spirit: -1.5116478204727173, the nation: -1.8753299713134766, the situation of the anti-fascist war of the people worldwide: -1.512418270111084, the anti-fascist war of the people worldwide: -1.526107668876648, the people worldwide: -1.555556297302246, Zhuanbi Village: -1.5204671621322632, Zhuanbi Village , Wuxiang County of Shanxi Province , where the Eighth Route Army was headquartered back then: -1.5004340410232544, Wuxiang County of Shanxi Province: -1.514229655265808, Shanxi Province: -1.7395861148834229, the Eighth Route Army: -1.5907478332519531}, the headquarter: {the headquarter: 1.2619401216506958, What kind of memory: -1.5870859622955322, memory: -1.5683090686798096, We: -2.328996181488037, a special edition of Across China: -1.5362683534622192, Across China: -1.7779786586761475, China: -2.1394479274749756, II Landmarks on the Great Earth of China : Eternal Memories of Taihang MountainStanding tall on Taihang Mountain: -1.8755719661712646, the Great Earth: -1.7535414695739746, the Great Earth of China: -1.7139067649841309, China: -2.070605754852295, Eternal Memories: -1.6943895816802979, Taihang MountainStanding: -1.6859216690063477, Taihang Mountain: -1.9045814275741577, the Monument to the Hundred Regiments Offensive: -1.6936681270599365, the Hundred Regiments Offensive: -1.8459975719451904, a primary stele , secondary steles , a huge round sculpture and beacon tower , and the Great Wall , among other things: -1.563012719154358, secondary steles , a huge round sculpture and beacon tower , and the Great Wall: -1.5772438049316406, a huge round sculpture and beacon tower , and the Great Wall: -1.6001306772232056, beacon tower: -1.5485957860946655, the Great Wall: -1.7681586742401123, other things: -1.5608729124069214, primary stele , three secondary steles , and two inscribed steles .The: -1.5484400987625122, three secondary steles , and two inscribed steles: -1.6031341552734375, two inscribed steles: -1.5695481300354004, Hundred Regiments Offensive: -1.6059765815734863, the campaign of the largest scale launched by the Eighth Route Army during the War of Resistance against Japan: -1.7097654342651367, the largest scale launched by the Eighth Route Army during the War of Resistance against Japan: -1.5869252681732178, the Eighth Route Army: -1.633479356765747, the War of Resistance against Japan: -1.6059584617614746, Resistance: -1.6480772495269775, Japan: -2.1701598167419434, campaign: -1.5790619850158691, Japanese: -1.8253238201141357, the Japanese army: -1.5585118532180786, the Japanese army 's blockade: -1.55054771900177, base areas behind enemy lines: -1.5637015104293823, enemy lines: -1.5752326250076294, anti-Japanese: -1.7021384239196777, anti-Japanese spirit: -1.5692470073699951, the nation: -1.8211344480514526, the situation of the anti-fascist war of the people worldwide: -1.5441540479660034, the anti-fascist war of the people worldwide: -1.5917942523956299, the people worldwide: -1.6820398569107056, Zhuanbi Village: -1.4953839778900146, Zhuanbi Village , Wuxiang County of Shanxi Province , where the Eighth Route Army was headquartered back then: -1.4852793216705322, Wuxiang County of Shanxi Province: -1.5001932382583618, Shanxi Province: -1.477898120880127, the Eighth Route Army: -1.4879170656204224, a wall outside the headquarter: -1.55050790309906}}\n"
          ],
          "name": "stdout"
        }
      ]
    },
    {
      "cell_type": "code",
      "metadata": {
        "id": "RhNyh1RN58PA"
      },
      "source": [
        "#print all the coreference mentions in the document\n",
        "#i=1\n",
        "entity_dict = {}\n",
        "def printMentions(doc, entity_dict={}):\n",
        "    i = 1\n",
        "    print ('All the \"mentions\" in the given text:')\n",
        "    for cluster in doc._.coref_clusters or[]:\n",
        "      #print(str(cluster))\n",
        "      cl = str(cluster).split(':')[0]\n",
        "      entity_dict[cl] = i\n",
        "      i += 1\n",
        "    # coref = str(cluster).split(':')[1]\n",
        "    # for word in doc:\n",
        "    #   word = str(word)\n",
        "    #   if word in cl:\n",
        "    #      # str.replace(\"word\", \"{word}\")\n",
        "    #      print(word)\n",
        "\n",
        "    return entity_dict\n",
        "\n",
        "\n"
      ],
      "execution_count": null,
      "outputs": []
    },
    {
      "cell_type": "code",
      "metadata": {
        "id": "0eEjsko9RntU",
        "colab": {
          "base_uri": "https://localhost:8080/",
          "height": 346
        },
        "outputId": "3d03978b-a9f0-4df4-fa41-77bd14b12ff6"
      },
      "source": [
        "doc1._.in_coref"
      ],
      "execution_count": null,
      "outputs": [
        {
          "output_type": "error",
          "ename": "AttributeError",
          "evalue": "ignored",
          "traceback": [
            "\u001b[0;31m---------------------------------------------------------------------------\u001b[0m",
            "\u001b[0;31mAttributeError\u001b[0m                            Traceback (most recent call last)",
            "\u001b[0;32m<ipython-input-39-0fbc283bca2c>\u001b[0m in \u001b[0;36m<module>\u001b[0;34m()\u001b[0m\n\u001b[0;32m----> 1\u001b[0;31m \u001b[0mdoc1\u001b[0m\u001b[0;34m.\u001b[0m\u001b[0m_\u001b[0m\u001b[0;34m.\u001b[0m\u001b[0min_coref\u001b[0m\u001b[0;34m\u001b[0m\u001b[0;34m\u001b[0m\u001b[0m\n\u001b[0m",
            "\u001b[0;32m/usr/local/lib/python3.6/dist-packages/spacy/tokens/underscore.py\u001b[0m in \u001b[0;36m__getattr__\u001b[0;34m(self, name)\u001b[0m\n\u001b[1;32m     33\u001b[0m     \u001b[0;32mdef\u001b[0m \u001b[0m__getattr__\u001b[0m\u001b[0;34m(\u001b[0m\u001b[0mself\u001b[0m\u001b[0;34m,\u001b[0m \u001b[0mname\u001b[0m\u001b[0;34m)\u001b[0m\u001b[0;34m:\u001b[0m\u001b[0;34m\u001b[0m\u001b[0;34m\u001b[0m\u001b[0m\n\u001b[1;32m     34\u001b[0m         \u001b[0;32mif\u001b[0m \u001b[0mname\u001b[0m \u001b[0;32mnot\u001b[0m \u001b[0;32min\u001b[0m \u001b[0mself\u001b[0m\u001b[0;34m.\u001b[0m\u001b[0m_extensions\u001b[0m\u001b[0;34m:\u001b[0m\u001b[0;34m\u001b[0m\u001b[0;34m\u001b[0m\u001b[0m\n\u001b[0;32m---> 35\u001b[0;31m             \u001b[0;32mraise\u001b[0m \u001b[0mAttributeError\u001b[0m\u001b[0;34m(\u001b[0m\u001b[0mErrors\u001b[0m\u001b[0;34m.\u001b[0m\u001b[0mE046\u001b[0m\u001b[0;34m.\u001b[0m\u001b[0mformat\u001b[0m\u001b[0;34m(\u001b[0m\u001b[0mname\u001b[0m\u001b[0;34m=\u001b[0m\u001b[0mname\u001b[0m\u001b[0;34m)\u001b[0m\u001b[0;34m)\u001b[0m\u001b[0;34m\u001b[0m\u001b[0;34m\u001b[0m\u001b[0m\n\u001b[0m\u001b[1;32m     36\u001b[0m         \u001b[0mdefault\u001b[0m\u001b[0;34m,\u001b[0m \u001b[0mmethod\u001b[0m\u001b[0;34m,\u001b[0m \u001b[0mgetter\u001b[0m\u001b[0;34m,\u001b[0m \u001b[0msetter\u001b[0m \u001b[0;34m=\u001b[0m \u001b[0mself\u001b[0m\u001b[0;34m.\u001b[0m\u001b[0m_extensions\u001b[0m\u001b[0;34m[\u001b[0m\u001b[0mname\u001b[0m\u001b[0;34m]\u001b[0m\u001b[0;34m\u001b[0m\u001b[0;34m\u001b[0m\u001b[0m\n\u001b[1;32m     37\u001b[0m         \u001b[0;32mif\u001b[0m \u001b[0mgetter\u001b[0m \u001b[0;32mis\u001b[0m \u001b[0;32mnot\u001b[0m \u001b[0;32mNone\u001b[0m\u001b[0;34m:\u001b[0m\u001b[0;34m\u001b[0m\u001b[0;34m\u001b[0m\u001b[0m\n",
            "\u001b[0;31mAttributeError\u001b[0m: [E046] Can't retrieve unregistered extension attribute 'in_coref'. Did you forget to call the `set_extension` method?"
          ]
        }
      ]
    },
    {
      "cell_type": "code",
      "metadata": {
        "id": "lt6pczyfhAfZ",
        "colab": {
          "base_uri": "https://localhost:8080/",
          "height": 420
        },
        "outputId": "3435fbf3-6aac-47b5-8fa2-60c11f5e393c"
      },
      "source": [
        "for ent in doc1:\n",
        " # print(ent)\n",
        "    #print(ent.text, ent.start_char, ent.end_char, ent.label_) \n",
        "  if  ent._.in_coref:\n",
        "    print(ent.text)\n",
        "    for cluster in ent._.coref_clusters:\n",
        "      print (ent.text + \" => \" + cluster.main.text)\n"
      ],
      "execution_count": null,
      "outputs": [
        {
          "output_type": "stream",
          "text": [
            "China\n",
            "China => China\n",
            "China\n",
            "China => China\n",
            "the\n",
            "the => the Eighth Route Army\n",
            "Eighth\n",
            "Eighth => the Eighth Route Army\n",
            "Route\n",
            "Route => the Eighth Route Army\n",
            "Army\n",
            "Army => the Eighth Route Army\n",
            "the\n",
            "the => China\n",
            "nation\n",
            "nation => China\n",
            "the\n",
            "the => the Eighth Route Army\n",
            "Eighth\n",
            "Eighth => the Eighth Route Army\n",
            "Route\n",
            "Route => the Eighth Route Army\n",
            "Army\n",
            "Army => the Eighth Route Army\n"
          ],
          "name": "stdout"
        }
      ]
    },
    {
      "cell_type": "code",
      "metadata": {
        "id": "XzgB7VFj6CKC",
        "colab": {
          "base_uri": "https://localhost:8080/",
          "height": 50
        },
        "outputId": "d0e96876-6e2e-417c-c6dd-891d29c1d42d"
      },
      "source": [
        "printMentions(doc1)"
      ],
      "execution_count": null,
      "outputs": [
        {
          "output_type": "stream",
          "text": [
            "All the \"mentions\" in the given text:\n"
          ],
          "name": "stdout"
        },
        {
          "output_type": "execute_result",
          "data": {
            "text/plain": [
              "{'China': 1, 'the Eighth Route Army': 2}"
            ]
          },
          "metadata": {
            "tags": []
          },
          "execution_count": 25
        }
      ]
    },
    {
      "cell_type": "code",
      "metadata": {
        "id": "xD3LoPao6HUi"
      },
      "source": [
        "def printPronounReferences(doc):\n",
        "    print ('Pronouns and their references:')\n",
        "    for token in doc:\n",
        "        if token.pos_ == 'PRON' and token._.in_coref:\n",
        "            for cluster in token._.coref_clusters:\n",
        "                print (token.text + \" => \" + cluster.main.text)"
      ],
      "execution_count": null,
      "outputs": []
    },
    {
      "cell_type": "code",
      "metadata": {
        "id": "5Pm1fx5b6PdT",
        "colab": {
          "base_uri": "https://localhost:8080/",
          "height": 34
        },
        "outputId": "cfdca2a4-01c8-415a-9db2-7aa767bcfc99"
      },
      "source": [
        "printPronounReferences(doc1)"
      ],
      "execution_count": null,
      "outputs": [
        {
          "output_type": "stream",
          "text": [
            "Pronouns and their references:\n"
          ],
          "name": "stdout"
        }
      ]
    },
    {
      "cell_type": "code",
      "metadata": {
        "id": "LTZbcZ1R6Sfm"
      },
      "source": [
        "resolve = doc1._.coref_resolved\n",
        "sentences = [sent.string.strip() for sent in nlp(resolve).sents]"
      ],
      "execution_count": null,
      "outputs": []
    },
    {
      "cell_type": "code",
      "metadata": {
        "id": "i-nPq7Ufka2G",
        "colab": {
          "base_uri": "https://localhost:8080/",
          "height": 171
        },
        "outputId": "0ec7d84a-2ff1-4cfe-cd4a-67a62024c2aa"
      },
      "source": [
        "sentences"
      ],
      "execution_count": null,
      "outputs": [
        {
          "output_type": "execute_result",
          "data": {
            "text/plain": [
              "['What kind of memory ?',\n",
              " 'We respectfully invite you to watch a special edition of Across China .WW',\n",
              " 'II Landmarks on the Great Earth of China : Eternal Memories of Taihang MountainStanding tall on Taihang Mountain is the Monument to the Hundred Regiments Offensive .It is composed of a primary stele , secondary steles , a huge round sculpture and beacon tower , and the Great Wall , among other things .A',\n",
              " 'primary stele , three secondary steles , and two inscribed steles .The',\n",
              " 'Hundred Regiments Offensive was the campaign of the largest scale launched by the Eighth Route Army during the War of Resistance against Japan .This',\n",
              " \"campaign broke through the Japanese army 's blockade to reach base areas behind enemy lines , stirring up anti-Japanese spirit throughout China and influencing the situation of the anti-fascist war of the people worldwide .This\",\n",
              " 'is Zhuanbi Village , Wuxiang County of Shanxi Province , where the Eighth Route Army was headquartered back then .On',\n",
              " 'a wall outside the headquarter']"
            ]
          },
          "metadata": {
            "tags": []
          },
          "execution_count": 24
        }
      ]
    },
    {
      "cell_type": "code",
      "metadata": {
        "id": "9LW2A19vk7L0",
        "colab": {
          "base_uri": "https://localhost:8080/",
          "height": 195
        },
        "outputId": "94f4c106-02e3-476e-c4ac-281885570d9e"
      },
      "source": [
        "sentences.mentions"
      ],
      "execution_count": null,
      "outputs": [
        {
          "output_type": "error",
          "ename": "AttributeError",
          "evalue": "ignored",
          "traceback": [
            "\u001b[0;31m---------------------------------------------------------------------------\u001b[0m",
            "\u001b[0;31mAttributeError\u001b[0m                            Traceback (most recent call last)",
            "\u001b[0;32m<ipython-input-21-2f093933969a>\u001b[0m in \u001b[0;36m<module>\u001b[0;34m()\u001b[0m\n\u001b[0;32m----> 1\u001b[0;31m \u001b[0msentences\u001b[0m\u001b[0;34m.\u001b[0m\u001b[0mmentions\u001b[0m\u001b[0;34m\u001b[0m\u001b[0;34m\u001b[0m\u001b[0m\n\u001b[0m",
            "\u001b[0;31mAttributeError\u001b[0m: 'list' object has no attribute 'mentions'"
          ]
        }
      ]
    },
    {
      "cell_type": "code",
      "metadata": {
        "id": "0kSCbF0B6Yn3",
        "colab": {
          "base_uri": "https://localhost:8080/",
          "height": 1000
        },
        "outputId": "c932479e-98d7-4a88-9a50-3e6435c9a5ff"
      },
      "source": [
        "pip install allennlp==1.0.0 allennlp-models==1.0.0\n"
      ],
      "execution_count": null,
      "outputs": [
        {
          "output_type": "stream",
          "text": [
            "Requirement already satisfied: allennlp==1.0.0 in /usr/local/lib/python3.6/dist-packages (1.0.0)\n",
            "Requirement already satisfied: allennlp-models==1.0.0 in /usr/local/lib/python3.6/dist-packages (1.0.0)\n",
            "Requirement already satisfied: nltk in /usr/local/lib/python3.6/dist-packages (from allennlp==1.0.0) (3.2.5)\n",
            "Requirement already satisfied: transformers<2.12,>=2.9 in /usr/local/lib/python3.6/dist-packages (from allennlp==1.0.0) (2.11.0)\n",
            "Collecting spacy<2.3,>=2.1.0\n",
            "\u001b[?25l  Downloading https://files.pythonhosted.org/packages/55/2e/ac00f5c9d01e66cc6ab75eb2a460c9b0dc21ad99a12f810c86a58309e63c/spacy-2.2.4-cp36-cp36m-manylinux1_x86_64.whl (10.6MB)\n",
            "\u001b[K     |████████████████████████████████| 10.6MB 2.9MB/s \n",
            "\u001b[?25hRequirement already satisfied: filelock<3.1,>=3.0 in /usr/local/lib/python3.6/dist-packages (from allennlp==1.0.0) (3.0.12)\n",
            "Requirement already satisfied: torch<1.6.0,>=1.5.0 in /usr/local/lib/python3.6/dist-packages (from allennlp==1.0.0) (1.5.1)\n",
            "Requirement already satisfied: jsonpickle in /usr/local/lib/python3.6/dist-packages (from allennlp==1.0.0) (1.4.1)\n",
            "Requirement already satisfied: dataclasses; python_version < \"3.7\" in /usr/local/lib/python3.6/dist-packages (from allennlp==1.0.0) (0.7)\n",
            "Requirement already satisfied: tqdm>=4.19 in /usr/local/lib/python3.6/dist-packages (from allennlp==1.0.0) (4.41.1)\n",
            "Requirement already satisfied: overrides==3.0.0 in /usr/local/lib/python3.6/dist-packages (from allennlp==1.0.0) (3.0.0)\n",
            "Requirement already satisfied: numpy in /usr/local/lib/python3.6/dist-packages (from allennlp==1.0.0) (1.18.5)\n",
            "Requirement already satisfied: h5py in /usr/local/lib/python3.6/dist-packages (from allennlp==1.0.0) (2.10.0)\n",
            "Requirement already satisfied: jsonnet>=0.10.0; sys_platform != \"win32\" in /usr/local/lib/python3.6/dist-packages (from allennlp==1.0.0) (0.16.0)\n",
            "Requirement already satisfied: boto3 in /usr/local/lib/python3.6/dist-packages (from allennlp==1.0.0) (1.14.47)\n",
            "Requirement already satisfied: tensorboardX>=1.2 in /usr/local/lib/python3.6/dist-packages (from allennlp==1.0.0) (2.1)\n",
            "Requirement already satisfied: requests>=2.18 in /usr/local/lib/python3.6/dist-packages (from allennlp==1.0.0) (2.23.0)\n",
            "Requirement already satisfied: scipy in /usr/local/lib/python3.6/dist-packages (from allennlp==1.0.0) (1.4.1)\n",
            "Requirement already satisfied: pytest in /usr/local/lib/python3.6/dist-packages (from allennlp==1.0.0) (3.6.4)\n",
            "Requirement already satisfied: scikit-learn in /usr/local/lib/python3.6/dist-packages (from allennlp==1.0.0) (0.22.2.post1)\n",
            "Requirement already satisfied: py-rouge==1.1 in /usr/local/lib/python3.6/dist-packages (from allennlp-models==1.0.0) (1.1)\n",
            "Requirement already satisfied: conllu==3.0 in /usr/local/lib/python3.6/dist-packages (from allennlp-models==1.0.0) (3.0)\n",
            "Requirement already satisfied: word2number>=1.1 in /usr/local/lib/python3.6/dist-packages (from allennlp-models==1.0.0) (1.1)\n",
            "Requirement already satisfied: six in /usr/local/lib/python3.6/dist-packages (from nltk->allennlp==1.0.0) (1.15.0)\n",
            "Requirement already satisfied: sacremoses in /usr/local/lib/python3.6/dist-packages (from transformers<2.12,>=2.9->allennlp==1.0.0) (0.0.43)\n",
            "Requirement already satisfied: sentencepiece in /usr/local/lib/python3.6/dist-packages (from transformers<2.12,>=2.9->allennlp==1.0.0) (0.1.91)\n",
            "Requirement already satisfied: packaging in /usr/local/lib/python3.6/dist-packages (from transformers<2.12,>=2.9->allennlp==1.0.0) (20.4)\n",
            "Requirement already satisfied: regex!=2019.12.17 in /usr/local/lib/python3.6/dist-packages (from transformers<2.12,>=2.9->allennlp==1.0.0) (2019.12.20)\n",
            "Requirement already satisfied: tokenizers==0.7.0 in /usr/local/lib/python3.6/dist-packages (from transformers<2.12,>=2.9->allennlp==1.0.0) (0.7.0)\n",
            "Requirement already satisfied: plac<1.2.0,>=0.9.6 in /usr/local/lib/python3.6/dist-packages (from spacy<2.3,>=2.1.0->allennlp==1.0.0) (1.1.3)\n",
            "Requirement already satisfied: murmurhash<1.1.0,>=0.28.0 in /usr/local/lib/python3.6/dist-packages (from spacy<2.3,>=2.1.0->allennlp==1.0.0) (1.0.2)\n",
            "Requirement already satisfied: wasabi<1.1.0,>=0.4.0 in /usr/local/lib/python3.6/dist-packages (from spacy<2.3,>=2.1.0->allennlp==1.0.0) (0.7.1)\n",
            "Requirement already satisfied: srsly<1.1.0,>=1.0.2 in /usr/local/lib/python3.6/dist-packages (from spacy<2.3,>=2.1.0->allennlp==1.0.0) (1.0.2)\n",
            "Requirement already satisfied: blis<0.5.0,>=0.4.0 in /usr/local/lib/python3.6/dist-packages (from spacy<2.3,>=2.1.0->allennlp==1.0.0) (0.4.1)\n",
            "Requirement already satisfied: catalogue<1.1.0,>=0.0.7 in /usr/local/lib/python3.6/dist-packages (from spacy<2.3,>=2.1.0->allennlp==1.0.0) (1.0.0)\n",
            "Requirement already satisfied: setuptools in /usr/local/lib/python3.6/dist-packages (from spacy<2.3,>=2.1.0->allennlp==1.0.0) (49.6.0)\n",
            "Collecting thinc==7.4.0\n",
            "\u001b[?25l  Downloading https://files.pythonhosted.org/packages/73/ed/8e4559f1090fb05c0fa982a8a2caaa315967e7b460652be479d13fd1c813/thinc-7.4.0-cp36-cp36m-manylinux1_x86_64.whl (2.2MB)\n",
            "\u001b[K     |████████████████████████████████| 2.2MB 42.2MB/s \n",
            "\u001b[?25hRequirement already satisfied: cymem<2.1.0,>=2.0.2 in /usr/local/lib/python3.6/dist-packages (from spacy<2.3,>=2.1.0->allennlp==1.0.0) (2.0.3)\n",
            "Requirement already satisfied: preshed<3.1.0,>=3.0.2 in /usr/local/lib/python3.6/dist-packages (from spacy<2.3,>=2.1.0->allennlp==1.0.0) (3.0.2)\n",
            "Requirement already satisfied: future in /usr/local/lib/python3.6/dist-packages (from torch<1.6.0,>=1.5.0->allennlp==1.0.0) (0.16.0)\n",
            "Requirement already satisfied: importlib-metadata in /usr/local/lib/python3.6/dist-packages (from jsonpickle->allennlp==1.0.0) (1.7.0)\n",
            "Requirement already satisfied: botocore<1.18.0,>=1.17.47 in /usr/local/lib/python3.6/dist-packages (from boto3->allennlp==1.0.0) (1.17.47)\n",
            "Requirement already satisfied: s3transfer<0.4.0,>=0.3.0 in /usr/local/lib/python3.6/dist-packages (from boto3->allennlp==1.0.0) (0.3.3)\n",
            "Requirement already satisfied: jmespath<1.0.0,>=0.7.1 in /usr/local/lib/python3.6/dist-packages (from boto3->allennlp==1.0.0) (0.10.0)\n",
            "Requirement already satisfied: protobuf>=3.8.0 in /usr/local/lib/python3.6/dist-packages (from tensorboardX>=1.2->allennlp==1.0.0) (3.12.4)\n",
            "Requirement already satisfied: certifi>=2017.4.17 in /usr/local/lib/python3.6/dist-packages (from requests>=2.18->allennlp==1.0.0) (2020.6.20)\n",
            "Requirement already satisfied: urllib3!=1.25.0,!=1.25.1,<1.26,>=1.21.1 in /usr/local/lib/python3.6/dist-packages (from requests>=2.18->allennlp==1.0.0) (1.24.3)\n",
            "Requirement already satisfied: idna<3,>=2.5 in /usr/local/lib/python3.6/dist-packages (from requests>=2.18->allennlp==1.0.0) (2.10)\n",
            "Requirement already satisfied: chardet<4,>=3.0.2 in /usr/local/lib/python3.6/dist-packages (from requests>=2.18->allennlp==1.0.0) (3.0.4)\n",
            "Requirement already satisfied: atomicwrites>=1.0 in /usr/local/lib/python3.6/dist-packages (from pytest->allennlp==1.0.0) (1.4.0)\n",
            "Requirement already satisfied: attrs>=17.4.0 in /usr/local/lib/python3.6/dist-packages (from pytest->allennlp==1.0.0) (20.1.0)\n",
            "Requirement already satisfied: more-itertools>=4.0.0 in /usr/local/lib/python3.6/dist-packages (from pytest->allennlp==1.0.0) (8.4.0)\n",
            "Requirement already satisfied: pluggy<0.8,>=0.5 in /usr/local/lib/python3.6/dist-packages (from pytest->allennlp==1.0.0) (0.7.1)\n",
            "Requirement already satisfied: py>=1.5.0 in /usr/local/lib/python3.6/dist-packages (from pytest->allennlp==1.0.0) (1.9.0)\n",
            "Requirement already satisfied: joblib>=0.11 in /usr/local/lib/python3.6/dist-packages (from scikit-learn->allennlp==1.0.0) (0.16.0)\n",
            "Requirement already satisfied: click in /usr/local/lib/python3.6/dist-packages (from sacremoses->transformers<2.12,>=2.9->allennlp==1.0.0) (7.1.2)\n",
            "Requirement already satisfied: pyparsing>=2.0.2 in /usr/local/lib/python3.6/dist-packages (from packaging->transformers<2.12,>=2.9->allennlp==1.0.0) (2.4.7)\n",
            "Requirement already satisfied: zipp>=0.5 in /usr/local/lib/python3.6/dist-packages (from importlib-metadata->jsonpickle->allennlp==1.0.0) (3.1.0)\n",
            "Requirement already satisfied: docutils<0.16,>=0.10 in /usr/local/lib/python3.6/dist-packages (from botocore<1.18.0,>=1.17.47->boto3->allennlp==1.0.0) (0.15.2)\n",
            "Requirement already satisfied: python-dateutil<3.0.0,>=2.1 in /usr/local/lib/python3.6/dist-packages (from botocore<1.18.0,>=1.17.47->boto3->allennlp==1.0.0) (2.8.1)\n",
            "\u001b[31mERROR: en-core-web-sm 2.3.1 has requirement spacy<2.4.0,>=2.3.0, but you'll have spacy 2.2.4 which is incompatible.\u001b[0m\n",
            "Installing collected packages: thinc, spacy\n",
            "  Found existing installation: thinc 7.4.1\n",
            "    Uninstalling thinc-7.4.1:\n",
            "      Successfully uninstalled thinc-7.4.1\n",
            "  Found existing installation: spacy 2.3.2\n",
            "    Uninstalling spacy-2.3.2:\n",
            "      Successfully uninstalled spacy-2.3.2\n",
            "Successfully installed spacy-2.2.4 thinc-7.4.0\n"
          ],
          "name": "stdout"
        },
        {
          "output_type": "display_data",
          "data": {
            "application/vnd.colab-display-data+json": {
              "pip_warning": {
                "packages": [
                  "spacy",
                  "thinc"
                ]
              }
            }
          },
          "metadata": {
            "tags": []
          }
        }
      ]
    },
    {
      "cell_type": "code",
      "metadata": {
        "id": "vVuz3xNdQ2Sq",
        "colab": {
          "base_uri": "https://localhost:8080/",
          "height": 423
        },
        "outputId": "5eaab7b2-1bba-4554-947c-1c7c976647da"
      },
      "source": [
        "from allennlp.predictors.predictor import Predictor\n",
        "import allennlp_models.coref\n",
        "predictor = Predictor.from_path(\"https://storage.googleapis.com/allennlp-public-models/coref-spanbert-large-2020.02.27.tar.gz\")\n",
        "predictor.predict(\n",
        "  document=\"The woman reading a newspaper sat on the bench with her dog.\"\n",
        ")\n"
      ],
      "execution_count": null,
      "outputs": [
        {
          "output_type": "stream",
          "text": [
            "Did not use initialization regex that was passed: _context_layer._module.weight_hh.*\n",
            "Did not use initialization regex that was passed: _context_layer._module.weight_ih.*\n"
          ],
          "name": "stderr"
        },
        {
          "output_type": "execute_result",
          "data": {
            "text/plain": [
              "{'antecedent_indices': [[0, 1, 2, 3, 4],\n",
              "  [0, 1, 2, 3, 4],\n",
              "  [0, 1, 2, 3, 4],\n",
              "  [0, 1, 2, 3, 4],\n",
              "  [0, 1, 2, 3, 4]],\n",
              " 'clusters': [[[0, 4], [10, 10]]],\n",
              " 'document': ['The',\n",
              "  'woman',\n",
              "  'reading',\n",
              "  'a',\n",
              "  'newspaper',\n",
              "  'sat',\n",
              "  'on',\n",
              "  'the',\n",
              "  'bench',\n",
              "  'with',\n",
              "  'her',\n",
              "  'dog',\n",
              "  '.'],\n",
              " 'predicted_antecedents': [-1, -1, -1, 0, -1],\n",
              " 'top_spans': [[0, 4], [5, 5], [7, 8], [10, 10], [10, 11]]}"
            ]
          },
          "metadata": {
            "tags": []
          },
          "execution_count": 18
        }
      ]
    },
    {
      "cell_type": "markdown",
      "metadata": {
        "id": "pHYJYsPLIOGD"
      },
      "source": []
    },
    {
      "cell_type": "code",
      "metadata": {
        "id": "akSYj_nlPm1t"
      },
      "source": [],
      "execution_count": null,
      "outputs": []
    },
    {
      "cell_type": "code",
      "metadata": {
        "id": "Q5tMPudDTboi",
        "colab": {
          "base_uri": "https://localhost:8080/",
          "height": 289
        },
        "outputId": "113ba426-0403-4169-cb5c-1247c44ff916"
      },
      "source": [
        "!wget http://nlp.stanford.edu/software/stanford-corenlp-latest.zip"
      ],
      "execution_count": null,
      "outputs": [
        {
          "output_type": "stream",
          "text": [
            "--2020-08-26 11:12:34--  http://nlp.stanford.edu/software/stanford-corenlp-latest.zip\n",
            "Resolving nlp.stanford.edu (nlp.stanford.edu)... 171.64.67.140\n",
            "Connecting to nlp.stanford.edu (nlp.stanford.edu)|171.64.67.140|:80... connected.\n",
            "HTTP request sent, awaiting response... 302 Found\n",
            "Location: https://nlp.stanford.edu/software/stanford-corenlp-latest.zip [following]\n",
            "--2020-08-26 11:12:34--  https://nlp.stanford.edu/software/stanford-corenlp-latest.zip\n",
            "Connecting to nlp.stanford.edu (nlp.stanford.edu)|171.64.67.140|:443... connected.\n",
            "HTTP request sent, awaiting response... 200 OK\n",
            "Length: 504773765 (481M) [application/zip]\n",
            "Saving to: ‘stanford-corenlp-latest.zip’\n",
            "\n",
            "stanford-corenlp-la 100%[===================>] 481.39M  18.9MB/s    in 25s     \n",
            "\n",
            "2020-08-26 11:12:59 (19.4 MB/s) - ‘stanford-corenlp-latest.zip’ saved [504773765/504773765]\n",
            "\n"
          ],
          "name": "stdout"
        }
      ]
    },
    {
      "cell_type": "code",
      "metadata": {
        "id": "b-Uo0KtxeBmD",
        "colab": {
          "base_uri": "https://localhost:8080/",
          "height": 1000
        },
        "outputId": "b4e0ab55-d2e2-4ab4-9223-3c3fcf9bc4d7"
      },
      "source": [
        "!unzip stanford-corenlp-latest.zip"
      ],
      "execution_count": null,
      "outputs": [
        {
          "output_type": "stream",
          "text": [
            "Archive:  stanford-corenlp-latest.zip\n",
            "   creating: stanford-corenlp-4.1.0/\n",
            "  inflating: stanford-corenlp-4.1.0/stanford-corenlp-4.1.0-javadoc.jar  \n",
            "  inflating: stanford-corenlp-4.1.0/ejml-core-0.38-sources.jar  \n",
            "  inflating: stanford-corenlp-4.1.0/jaxb-api-2.4.0-b180830.0359.jar  \n",
            "  inflating: stanford-corenlp-4.1.0/javax.activation-api-1.2.0-sources.jar  \n",
            "  inflating: stanford-corenlp-4.1.0/ejml-core-0.38.jar  \n",
            "  inflating: stanford-corenlp-4.1.0/stanford-corenlp-4.1.0.jar  \n",
            "  inflating: stanford-corenlp-4.1.0/LIBRARY-LICENSES  \n",
            "  inflating: stanford-corenlp-4.1.0/StanfordCoreNlpDemo.java  \n",
            "  inflating: stanford-corenlp-4.1.0/input.txt.out  \n",
            "   creating: stanford-corenlp-4.1.0/patterns/\n",
            "  inflating: stanford-corenlp-4.1.0/patterns/presidents.txt  \n",
            "  inflating: stanford-corenlp-4.1.0/patterns/example.properties  \n",
            "  inflating: stanford-corenlp-4.1.0/patterns/names.txt  \n",
            "  inflating: stanford-corenlp-4.1.0/patterns/stopwords.txt  \n",
            " extracting: stanford-corenlp-4.1.0/patterns/goldplaces.txt  \n",
            " extracting: stanford-corenlp-4.1.0/patterns/places.txt  \n",
            "  inflating: stanford-corenlp-4.1.0/patterns/goldnames.txt  \n",
            " extracting: stanford-corenlp-4.1.0/patterns/otherpeople.txt  \n",
            "  inflating: stanford-corenlp-4.1.0/ejml-simple-0.38-sources.jar  \n",
            "  inflating: stanford-corenlp-4.1.0/ejml-ddense-0.38-sources.jar  \n",
            "  inflating: stanford-corenlp-4.1.0/StanfordDependenciesManual.pdf  \n",
            "  inflating: stanford-corenlp-4.1.0/input.txt  \n",
            "  inflating: stanford-corenlp-4.1.0/javax.activation-api-1.2.0.jar  \n",
            "  inflating: stanford-corenlp-4.1.0/jaxb-impl-2.4.0-b180830.0438.jar  \n",
            "  inflating: stanford-corenlp-4.1.0/jollyday.jar  \n",
            "  inflating: stanford-corenlp-4.1.0/pom-java-11.xml  \n",
            "  inflating: stanford-corenlp-4.1.0/stanford-corenlp-4.1.0-models.jar  \n",
            "  inflating: stanford-corenlp-4.1.0/pom.xml  \n",
            "  inflating: stanford-corenlp-4.1.0/jaxb-api-2.4.0-b180830.0359-sources.jar  \n",
            "  inflating: stanford-corenlp-4.1.0/LICENSE.txt  \n",
            "  inflating: stanford-corenlp-4.1.0/jaxb-core-2.3.0.1.jar  \n",
            "  inflating: stanford-corenlp-4.1.0/build.xml  \n",
            "  inflating: stanford-corenlp-4.1.0/joda-time.jar  \n",
            "  inflating: stanford-corenlp-4.1.0/corenlp.sh  \n",
            "  inflating: stanford-corenlp-4.1.0/ejml-simple-0.38.jar  \n",
            "   creating: stanford-corenlp-4.1.0/sutime/\n",
            "  inflating: stanford-corenlp-4.1.0/sutime/spanish.sutime.txt  \n",
            "  inflating: stanford-corenlp-4.1.0/sutime/english.holidays.sutime.txt  \n",
            "  inflating: stanford-corenlp-4.1.0/sutime/english.sutime.txt  \n",
            "  inflating: stanford-corenlp-4.1.0/sutime/defs.sutime.txt  \n",
            "  inflating: stanford-corenlp-4.1.0/sutime/british.sutime.txt  \n",
            "  inflating: stanford-corenlp-4.1.0/javax.json.jar  \n",
            "  inflating: stanford-corenlp-4.1.0/xom.jar  \n",
            "   creating: stanford-corenlp-4.1.0/tokensregex/\n",
            "  inflating: stanford-corenlp-4.1.0/tokensregex/retokenize.txt  \n",
            "  inflating: stanford-corenlp-4.1.0/tokensregex/color.properties  \n",
            "  inflating: stanford-corenlp-4.1.0/tokensregex/color.input.txt  \n",
            "  inflating: stanford-corenlp-4.1.0/tokensregex/color.rules.txt  \n",
            "  inflating: stanford-corenlp-4.1.0/jaxb-core-2.3.0.1-sources.jar  \n",
            "  inflating: stanford-corenlp-4.1.0/xom-1.3.2-sources.jar  \n",
            "  inflating: stanford-corenlp-4.1.0/CoreNLP-to-HTML.xsl  \n",
            "  inflating: stanford-corenlp-4.1.0/ShiftReduceDemo.java  \n",
            "  inflating: stanford-corenlp-4.1.0/slf4j-simple.jar  \n",
            "  inflating: stanford-corenlp-4.1.0/jaxb-impl-2.4.0-b180830.0438-sources.jar  \n",
            "  inflating: stanford-corenlp-4.1.0/ejml-ddense-0.38.jar  \n",
            "  inflating: stanford-corenlp-4.1.0/README.txt  \n",
            "  inflating: stanford-corenlp-4.1.0/stanford-corenlp-4.1.0-sources.jar  \n",
            "  inflating: stanford-corenlp-4.1.0/SemgrexDemo.java  \n",
            "  inflating: stanford-corenlp-4.1.0/javax.json-api-1.0-sources.jar  \n",
            "  inflating: stanford-corenlp-4.1.0/slf4j-api.jar  \n",
            "  inflating: stanford-corenlp-4.1.0/RESOURCE-LICENSES  \n",
            "  inflating: stanford-corenlp-4.1.0/joda-time-2.10.5-sources.jar  \n",
            "  inflating: stanford-corenlp-4.1.0/Makefile  \n",
            "  inflating: stanford-corenlp-4.1.0/input.txt.xml  \n",
            "  inflating: stanford-corenlp-4.1.0/jollyday-0.4.9-sources.jar  \n",
            "  inflating: stanford-corenlp-4.1.0/protobuf.jar  \n"
          ],
          "name": "stdout"
        }
      ]
    },
    {
      "cell_type": "code",
      "metadata": {
        "id": "yLv-NCzEfV0S",
        "colab": {
          "base_uri": "https://localhost:8080/",
          "height": 34
        },
        "outputId": "6fc1e7f1-3a6c-4ad6-d728-b1b8e452ae41"
      },
      "source": [
        "cd stanford-corenlp-4.1.0/"
      ],
      "execution_count": null,
      "outputs": [
        {
          "output_type": "stream",
          "text": [
            "/content/drive/My Drive/seq2seq_coref/stanford-corenlp-4.1.0\n"
          ],
          "name": "stdout"
        }
      ]
    },
    {
      "cell_type": "code",
      "metadata": {
        "id": "feRe0ENzfayy",
        "colab": {
          "base_uri": "https://localhost:8080/",
          "height": 457
        },
        "outputId": "d20fea6a-44d1-45e5-e533-6c66b0b9171d"
      },
      "source": [
        "export CLASSPATH=\"$CLASSPATH:javanlp-core.jar:stanford-corenlp-models-current.jar\";\n",
        "for file in `find lib -name \"*.jar\"`; do export CLASSPATH=\"$CLASSPATH:`realpath $file`\"; done"
      ],
      "execution_count": null,
      "outputs": [
        {
          "output_type": "stream",
          "text": [
            "build.xml                                 jollyday.jar\n",
            "\u001b[0m\u001b[01;32mcorenlp.sh\u001b[0m*                               LIBRARY-LICENSES\n",
            "\u001b[01;32mCoreNLP-to-HTML.xsl\u001b[0m*                      LICENSE.txt\n",
            "ejml-core-0.38.jar                        Makefile\n",
            "ejml-core-0.38-sources.jar                \u001b[01;34mpatterns\u001b[0m/\n",
            "ejml-ddense-0.38.jar                      pom-java-11.xml\n",
            "ejml-ddense-0.38-sources.jar              pom.xml\n",
            "ejml-simple-0.38.jar                      protobuf.jar\n",
            "ejml-simple-0.38-sources.jar              README.txt\n",
            "input.txt                                 RESOURCE-LICENSES\n",
            "input.txt.out                             SemgrexDemo.java\n",
            "input.txt.xml                             ShiftReduceDemo.java\n",
            "javax.activation-api-1.2.0.jar            slf4j-api.jar\n",
            "javax.activation-api-1.2.0-sources.jar    slf4j-simple.jar\n",
            "javax.json-api-1.0-sources.jar            stanford-corenlp-4.1.0.jar\n",
            "javax.json.jar                            stanford-corenlp-4.1.0-javadoc.jar\n",
            "jaxb-api-2.4.0-b180830.0359.jar           stanford-corenlp-4.1.0-models.jar\n",
            "jaxb-api-2.4.0-b180830.0359-sources.jar   stanford-corenlp-4.1.0-sources.jar\n",
            "jaxb-core-2.3.0.1.jar                     StanfordCoreNlpDemo.java\n",
            "jaxb-core-2.3.0.1-sources.jar             StanfordDependenciesManual.pdf\n",
            "jaxb-impl-2.4.0-b180830.0438.jar          \u001b[01;34msutime\u001b[0m/\n",
            "jaxb-impl-2.4.0-b180830.0438-sources.jar  \u001b[01;34mtokensregex\u001b[0m/\n",
            "joda-time-2.10.5-sources.jar              xom-1.3.2-sources.jar\n",
            "joda-time.jar                             xom.jar\n",
            "jollyday-0.4.9-sources.jar\n"
          ],
          "name": "stdout"
        }
      ]
    },
    {
      "cell_type": "code",
      "metadata": {
        "id": "cLrhe4x-fsiW"
      },
      "source": [
        "import numpy as np\n",
        "import pandas as pd\n"
      ],
      "execution_count": null,
      "outputs": []
    },
    {
      "cell_type": "code",
      "metadata": {
        "id": "QyoSO4r0yRF1"
      },
      "source": [],
      "execution_count": null,
      "outputs": []
    },
    {
      "cell_type": "code",
      "metadata": {
        "id": "pRJIS4IPuc0U"
      },
      "source": [
        "#read files\n",
        "#text = pd.read_csv('train.english.v4_gold_conll', sep=' ')\n",
        "text = open('../train.english.v4_gold_conll', mode='r')\n",
        "text_lines = text.readlines()"
      ],
      "execution_count": null,
      "outputs": []
    },
    {
      "cell_type": "code",
      "metadata": {
        "id": "bxkbohtxvSeX",
        "colab": {
          "base_uri": "https://localhost:8080/",
          "height": 54
        },
        "outputId": "b36b8500-6fa4-43e1-f3e4-58626f5cb128"
      },
      "source": [
        "dc = nlp(str(text_lines[:100]))\n",
        "dc"
      ],
      "execution_count": null,
      "outputs": [
        {
          "output_type": "execute_result",
          "data": {
            "text/plain": [
              "['#begin document (bc/cctv/00/cctv_0001); part 000\\n', 'bc/cctv/00/cctv_0001   0   0      What   WP  (TOP(SBARQ(WHNP(WHNP*        -   -   -   Speaker#1   *   -\\n', 'bc/cctv/00/cctv_0001   0   1      kind   NN                      *)       -   -   -   Speaker#1   *   -\\n', 'bc/cctv/00/cctv_0001   0   2        of   IN                   (PP*        -   -   -   Speaker#1   *   -\\n', 'bc/cctv/00/cctv_0001   0   3    memory   NN                 (NP*)))   memory  -   1   Speaker#1   *   -\\n', 'bc/cctv/00/cctv_0001   0   4         ?    .                     *))       -   -   -   Speaker#1   *   -\\n', '\\n', 'bc/cctv/00/cctv_0001   0    0              We   PRP   (TOP(S(NP*)       -    -   -   Speaker#1       *        (ARG0*)        *   -\\n', 'bc/cctv/00/cctv_0001   0    1    respectfully    RB       (ADVP*)       -    -   -   Speaker#1       *    (ARGM-MNR*)        *   -\\n', 'bc/cctv/00/cctv_0001   0    2          invite    VB         (VP*    invite  01   3   Speaker#1       *           (V*)        *   -\\n', 'bc/cctv/00/cctv_0001   0    3             you   PRP         (NP*)       -    -   -   Speaker#1       *        (ARG1*)   (ARG0*)  -\\n', 'bc/cctv/00/cctv_0001   0    4              to    TO       (S(VP*        -    -   -   Speaker#1       *        (ARG2*         *   -\\n', 'bc/cctv/00/cctv_0001   0    5           watch    VB         (VP*     watch  01   1   Speaker#1       *             *       (V*)  -\\n', 'bc/cctv/00/cctv_0001   0    6               a    DT      (NP(NP*        -    -   -   Speaker#1       *             *    (ARG1*   -\\n', 'bc/cctv/00/cctv_0001   0    7         special    JJ            *        -    -   -   Speaker#1       *             *         *   -\\n', 'bc/cctv/00/cctv_0001   0    8         edition    NN            *)       -    -   -   Speaker#1       *             *         *   -\\n', 'bc/cctv/00/cctv_0001   0    9              of    IN         (PP*        -    -   -   Speaker#1       *             *         *   -\\n', 'bc/cctv/00/cctv_0001   0   10          Across   NNP         (NP*        -    -   -   Speaker#1   (ORG*             *         *   -\\n', 'bc/cctv/00/cctv_0001   0   11           China   NNP      *)))))))       -    -   -   Speaker#1       *)            *)        *)  -\\n', 'bc/cctv/00/cctv_0001   0   12               .     .           *))       -    -   -   Speaker#1       *             *         *   -\\n', '\\n', 'bc/cctv/00/cctv_0001   0    0           WW    NNP  (TOP(NP(NP(NP*   -   -   -   Speaker#1   (WORK_OF_ART*      -\\n', 'bc/cctv/00/cctv_0001   0    1           II    NNP               *   -   -   -   Speaker#1               *      -\\n', 'bc/cctv/00/cctv_0001   0    2    Landmarks   NNPS               *)  -   -   -   Speaker#1               *      -\\n', 'bc/cctv/00/cctv_0001   0    3           on     IN            (PP*   -   -   -   Speaker#1               *      -\\n', 'bc/cctv/00/cctv_0001   0    4          the     DT         (NP(NP*   -   -   -   Speaker#1               *      -\\n', 'bc/cctv/00/cctv_0001   0    5        Great    NNP               *   -   -   -   Speaker#1               *      -\\n', 'bc/cctv/00/cctv_0001   0    6        Earth    NNP               *)  -   -   -   Speaker#1               *      -\\n', 'bc/cctv/00/cctv_0001   0    7           of     IN            (PP*   -   -   -   Speaker#1               *      -\\n', 'bc/cctv/00/cctv_0001   0    8        China    NNP        (NP*)))))  -   -   -   Speaker#1               *    (59)\\n', 'bc/cctv/00/cctv_0001   0    9            :      ,               *   -   -   -   Speaker#1               *      -\\n', 'bc/cctv/00/cctv_0001   0   10      Eternal     JJ         (NP(NP*   -   -   -   Speaker#1               *      -\\n', 'bc/cctv/00/cctv_0001   0   11     Memories   NNPS               *)  -   -   -   Speaker#1               *      -\\n', 'bc/cctv/00/cctv_0001   0   12           of     IN            (PP*   -   -   -   Speaker#1               *      -\\n', 'bc/cctv/00/cctv_0001   0   13      Taihang    NNP            (NP*   -   -   -   Speaker#1               *    (74\\n', 'bc/cctv/00/cctv_0001   0   14     Mountain    NNP           *)))))  -   -   -   Speaker#1               *)    74)\\n', '\\n', 'bc/cctv/00/cctv_0001   0    0     Standing    VBG  (TOP(SINV(VP*    stand  01   -   Speaker#1               *           (V*)     *         -\\n', 'bc/cctv/00/cctv_0001   0    1         tall     JJ      (S(ADJP*))      -    -   -   Speaker#1               *    (ARGM-ADV*)     *         -\\n', 'bc/cctv/00/cctv_0001   0    2           on     IN           (PP*       -    -   -   Speaker#1               *    (ARGM-LOC*      *         -\\n', 'bc/cctv/00/cctv_0001   0    3      Taihang    NNP           (NP*       -    -   -   Speaker#1           (LOC*             *      *       (74\\n', 'bc/cctv/00/cctv_0001   0    4     Mountain    NNP            *)))      -    -   -   Speaker#1               *)            *)     *        74)\\n', 'bc/cctv/00/cctv_0001   0    5           is    VBZ           (VP*)      be  03   -   Speaker#1               *             *    (V*)        -\\n', 'bc/cctv/00/cctv_0001   0    6          the     DT        (NP(NP*       -    -   -   Speaker#1   (WORK_OF_ART*             *      *       (22\\n', 'bc/cctv/00/cctv_0001   0    7     Monument    NNP              *)      -    -   -   Speaker#1               *             *      *         -\\n', 'bc/cctv/00/cctv_0001   0    8           to     IN           (PP*       -    -   -   Speaker#1               *             *      *         -\\n', 'bc/cctv/00/cctv_0001   0    9          the     DT           (NP*       -    -   -   Speaker#1               *             *      *       (65\\n', 'bc/cctv/00/cctv_0001   0   10      Hundred    NNP          (NML*       -    -   -   Speaker#1               *             *      *         -\\n', 'bc/cctv/00/cctv_0001   0   11    Regiments   NNPS              *)      -    -   -   Speaker#1               *             *      *         -\\n', 'bc/cctv/00/cctv_0001   0   12    Offensive    NNP            *)))      -    -   -   Speaker#1               *)            *      *    65)|22)\\n', 'bc/cctv/00/cctv_0001   0   13            .      .             *))      -    -   -   Speaker#1               *             *      *         -\\n', '\\n', 'bc/cctv/00/cctv_0001   0    0           It   PRP   (TOP(S(NP*)          -    -   -   Speaker#1               *      *    (ARG1*)   (22)\\n', 'bc/cctv/00/cctv_0001   0    1           is   VBZ         (VP*           be  03   -   Speaker#1               *    (V*)        *      -\\n', 'bc/cctv/00/cctv_0001   0    2     composed   VBN         (VP*      compose  01   2   Speaker#1               *      *       (V*)     -\\n', 'bc/cctv/00/cctv_0001   0    3           of    IN         (PP*           -    -   -   Speaker#1               *      *    (ARG2*      -\\n', 'bc/cctv/00/cctv_0001   0    4            a    DT      (NP(NP*           -    -   -   Speaker#1               *      *         *    (24\\n', 'bc/cctv/00/cctv_0001   0    5      primary    JJ            *           -    -   -   Speaker#1               *      *         *      -\\n', 'bc/cctv/00/cctv_0001   0    6        stele    NN            *)          -    -   -   Speaker#1               *      *         *     24)\\n', 'bc/cctv/00/cctv_0001   0    7            ,     ,            *           -    -   -   Speaker#1               *      *         *      -\\n', 'bc/cctv/00/cctv_0001   0    8    secondary    JJ         (NP*           -    -   -   Speaker#1               *      *         *    (13\\n', 'bc/cctv/00/cctv_0001   0    9       steles   NNS            *)          -    -   -   Speaker#1               *      *         *     13)\\n', 'bc/cctv/00/cctv_0001   0   10            ,     ,            *           -    -   -   Speaker#1               *      *         *      -\\n', 'bc/cctv/00/cctv_0001   0   11            a    DT         (NP*           -    -   -   Speaker#1               *      *         *      -\\n', 'bc/cctv/00/cctv_0001   0   12         huge    JJ            *           -    -   -   Speaker#1               *      *         *      -\\n', 'bc/cctv/00/cctv_0001   0   13        round    NN            *        round   -   -   Speaker#1               *      *         *      -\\n', 'bc/cctv/00/cctv_0001   0   14    sculpture    NN    (NML(NML*)   sculpture   -   -   Speaker#1               *      *         *      -\\n', 'bc/cctv/00/cctv_0001   0   15          and    CC            *           -    -   -   Speaker#1               *      *         *      -\\n', 'bc/cctv/00/cctv_0001   0   16       beacon    NN        (NML*       beacon   -   -   Speaker#1               *      *         *      -\\n', 'bc/cctv/00/cctv_0001   0   17        tower    NN          *)))          -    -   -   Speaker#1               *      *         *      -\\n', 'bc/cctv/00/cctv_0001   0   18            ,     ,            *           -    -   -   Speaker#1               *      *         *      -\\n', 'bc/cctv/00/cctv_0001   0   19          and    CC            *           -    -   -   Speaker#1               *      *         *      -\\n', 'bc/cctv/00/cctv_0001   0   20          the    DT         (NP*           -    -   -   Speaker#1   (WORK_OF_ART*      *         *      -\\n', 'bc/cctv/00/cctv_0001   0   21        Great   NNP            *           -    -   -   Speaker#1               *      *         *      -\\n', 'bc/cctv/00/cctv_0001   0   22         Wall   NNP            *)          -    -   -   Speaker#1               *)     *         *      -\\n', 'bc/cctv/00/cctv_0001   0   23            ,     ,            *           -    -   -   Speaker#1               *      *         *      -\\n', 'bc/cctv/00/cctv_0001   0   24        among    IN         (PP*           -    -   -   Speaker#1               *      *         *      -\\n', 'bc/cctv/00/cctv_0001   0   25        other    JJ         (NP*           -    -   -   Speaker#1               *      *         *      -\\n', 'bc/cctv/00/cctv_0001   0   26       things   NNS       *))))))          -    -   -   Speaker#1               *      *         *)     -\\n', 'bc/cctv/00/cctv_0001   0   27            .     .           *))          -    -   -   Speaker#1               *      *         *      -\\n', '\\n', 'bc/cctv/00/cctv_0001   0    0            A    DT  (TOP(NP(NP*          -    -   -   Speaker#1            *         *   (24\\n', 'bc/cctv/00/cctv_0001   0    1      primary    JJ            *          -    -   -   Speaker#1            *         *     -\\n', 'bc/cctv/00/cctv_0001   0    2        stele    NN            *)         -    -   -   Speaker#1            *         *    24)\\n', 'bc/cctv/00/cctv_0001   0    3            ,     ,            *          -    -   -   Speaker#1            *         *     -\\n', 'bc/cctv/00/cctv_0001   0    4        three    CD         (NP*          -    -   -   Speaker#1    (CARDINAL)        *   (13\\n', 'bc/cctv/00/cctv_0001   0    5    secondary    JJ            *          -    -   -   Speaker#1            *         *     -\\n', 'bc/cctv/00/cctv_0001   0    6       steles   NNS            *)         -    -   -   Speaker#1            *         *    13)\\n', 'bc/cctv/00/cctv_0001   0    7            ,     ,            *          -    -   -   Speaker#1            *         *     -\\n', 'bc/cctv/00/cctv_0001   0    8          and    CC            *          -    -   -   Speaker#1            *         *     -\\n', 'bc/cctv/00/cctv_0001   0    9          two    CD         (NP*          -    -   -   Speaker#1    (CARDINAL)        *     -\\n', 'bc/cctv/00/cctv_0001   0   10    inscribed   VBN            *    inscribe  01   -   Speaker#1            *       (V*)    -\\n', 'bc/cctv/00/cctv_0001   0   11       steles   NNS            *)         -    -   -   Speaker#1            *    (ARG1*)    -\\n', 'bc/cctv/00/cctv_0001   0   12            .     .           *))         -    -   -   Speaker#1            *         *     -\\n', '\\n', 'bc/cctv/00/cctv_0001   0    0           The     DT     (TOP(S(NP*          -    -   -   Speaker#1   (EVENT*   (ARG1*            *   (65\\n', 'bc/cctv/00/cctv_0001   0    1       Hundred    NNP          (NML*          -    -   -   Speaker#1         *        *            *     -\\n', 'bc/cctv/00/cctv_0001   0    2     Regiments   NNPS              *)         -    -   -   Speaker#1         *        *            *     -\\n', 'bc/cctv/00/cctv_0001   0    3     Offensive    NNP              *)         -    -   -   Speaker#1         *)       *)           *    65)\\n', 'bc/cctv/00/cctv_0001   0    4           was    VBD           (VP*          be  01   1   Speaker#1         *      (V*)           *     -\\n']"
            ]
          },
          "metadata": {
            "tags": []
          },
          "execution_count": 34
        }
      ]
    },
    {
      "cell_type": "code",
      "metadata": {
        "id": "wfMcqUL0vZJ6",
        "colab": {
          "base_uri": "https://localhost:8080/",
          "height": 322
        },
        "outputId": "3aa7fbce-db3f-4e34-8c30-843c759029f5"
      },
      "source": [
        "dc._.coref_clusters"
      ],
      "execution_count": null,
      "outputs": [
        {
          "output_type": "execute_result",
          "data": {
            "text/plain": [
              "['bc/cctv/00/cctv_0001   : ['bc/cctv/00/cctv_0001   , 'bc/cctv/00/cctv_0001   , 'bc/cctv/00/cctv_0001   , 'bc/cctv/00/cctv_0001   ],\n",
              " Speaker#1       : [Speaker#1       , Speaker#1       ],\n",
              " *      -\\n': [*      -\\n', *      -\\n', *      -\\n', *      -\\n', *      -\\n', *      -\\n', *      -\\n', *      -\\n'],\n",
              " (PP*   -   -   -   Speaker#1               *      -\\n': [(PP*   -   -   -   Speaker#1               *      -\\n', (PP*   -   -   -   Speaker#1               *      -\\n', (PP*   -   -   -   Speaker#1               *      -\\n'],\n",
              " 'bc/cctv/00/cctv_0001   0   : ['bc/cctv/00/cctv_0001   0   , 'bc/cctv/00/cctv_0001   0   ],\n",
              " Taihang    : [Taihang    , Taihang    ],\n",
              " NNP            : [NNP            , NNP            ],\n",
              " NNP           : [NNP           , NNP           ],\n",
              " *         -\\n': [*         -\\n', *         -\\n', -\\n'],\n",
              " 'bc/cctv/00/cctv_0001   0    : ['bc/cctv/00/cctv_0001   0    , 'bc/cctv/00/cctv_0001   0    ],\n",
              " *      -\\n': [*      -\\n', -\\n'],\n",
              " 'bc/cctv/00/cctv_0001   0    : ['bc/cctv/00/cctv_0001   0    , 'bc/cctv/00/cctv_0001   0    ],\n",
              " *         *      -\\n': [*         *      -\\n', *         *      -\\n', *         *      -\\n', *         *      -\\n', *         *      -\\n', *         *      -\\n', *         *      -\\n', *         *      -\\n', *         *      -\\n', *      -\\n', *         *      -\\n', *         *      -\\n', *         *      -\\n'],\n",
              " 'bc/cctv/00/cctv_0001   0   : ['bc/cctv/00/cctv_0001   0   , 'bc/cctv/00/cctv_0001   0   , 'bc/cctv/00/cctv_0001   0   , 'bc/cctv/00/cctv_0001   0   , 'bc/cctv/00/cctv_0001   0   ],\n",
              " *         *     -\\n': [*         *     -\\n', *         *     -\\n', *         *     -\\n', *         *     -\\n', *     -\\n', *     -\\n', *     -\\n'],\n",
              " NNS            : [NNS            , NNS            ],\n",
              " 'bc/cctv/00/cctv_0001   0    : ['bc/cctv/00/cctv_0001   0    , 'bc/cctv/00/cctv_0001   0    ]]"
            ]
          },
          "metadata": {
            "tags": []
          },
          "execution_count": 35
        }
      ]
    },
    {
      "cell_type": "code",
      "metadata": {
        "id": "zaI4uHEqwQ4W",
        "colab": {
          "base_uri": "https://localhost:8080/",
          "height": 252
        },
        "outputId": "c8696191-7e80-46a9-b993-fe34feba315e"
      },
      "source": [
        "printMentions(dc)"
      ],
      "execution_count": null,
      "outputs": [
        {
          "output_type": "stream",
          "text": [
            "All the \"mentions\" in the given text:\n"
          ],
          "name": "stdout"
        },
        {
          "output_type": "execute_result",
          "data": {
            "text/plain": [
              "{\"'bc/cctv/00/cctv_0001   \": 1,\n",
              " \"'bc/cctv/00/cctv_0001   0   \": 14,\n",
              " \"'bc/cctv/00/cctv_0001   0    \": 17,\n",
              " \"(PP*   -   -   -   Speaker#1               *      -\\\\n'\": 4,\n",
              " \"*         *      -\\\\n'\": 13,\n",
              " \"*         *     -\\\\n'\": 15,\n",
              " \"*         -\\\\n'\": 9,\n",
              " \"*      -\\\\n'\": 11,\n",
              " 'NNP           ': 8,\n",
              " 'NNP            ': 7,\n",
              " 'NNS            ': 16,\n",
              " 'Speaker#1       ': 2,\n",
              " 'Taihang    ': 6}"
            ]
          },
          "metadata": {
            "tags": []
          },
          "execution_count": 36
        }
      ]
    },
    {
      "cell_type": "code",
      "metadata": {
        "id": "TbjilVFg-QSN",
        "colab": {
          "base_uri": "https://localhost:8080/",
          "height": 50
        },
        "outputId": "b76243d2-8361-4cc5-c657-569a9ab3f919"
      },
      "source": [
        "# import spacy\n",
        "# nlp = spacy.load('en')\n",
        "\n",
        "# Add neural coref to SpaCy's pipe\n",
        "# import neuralcoref\n",
        "# neuralcoref.add_to_pipe(nlp)\n",
        "\n",
        "# You're done. You can now use NeuralCoref as you usually manipulate a SpaCy document annotations.\n",
        "doc = nlp(u'My sister has a dog. She loves him.')\n",
        "\n",
        "print(doc._.has_coref)\n",
        "print(doc._.coref_clusters)"
      ],
      "execution_count": null,
      "outputs": [
        {
          "output_type": "stream",
          "text": [
            "True\n",
            "[My sister: [My sister, She], a dog: [a dog, him]]\n"
          ],
          "name": "stdout"
        }
      ]
    },
    {
      "cell_type": "code",
      "metadata": {
        "id": "ohcfuk8FuyHQ"
      },
      "source": [
        "all_mentions = [(mention,i+1) for i,e in enumerate(entities) for mention in e]\n",
        "sorted_mentions = sorted(all_mentions,key = lambda x:x[0].start_char)"
      ],
      "execution_count": null,
      "outputs": []
    },
    {
      "cell_type": "code",
      "metadata": {
        "id": "LLiwMHBx0UM3",
        "colab": {
          "base_uri": "https://localhost:8080/",
          "height": 34
        },
        "outputId": "7e301fb2-b05a-4c33-a93e-b0bdf7b41a27"
      },
      "source": [
        "sorted_mentions"
      ],
      "execution_count": null,
      "outputs": [
        {
          "output_type": "execute_result",
          "data": {
            "text/plain": [
              "[(My sister, 1), (a dog, 2), (She, 1), (him, 2)]"
            ]
          },
          "metadata": {
            "tags": []
          },
          "execution_count": 50
        }
      ]
    },
    {
      "cell_type": "code",
      "metadata": {
        "id": "Wv6_QL2Iz0em",
        "colab": {
          "base_uri": "https://localhost:8080/",
          "height": 34
        },
        "outputId": "165ee32b-b0ef-4ed4-f136-7d0fedba33ed"
      },
      "source": [
        "all_mentions"
      ],
      "execution_count": null,
      "outputs": [
        {
          "output_type": "execute_result",
          "data": {
            "text/plain": [
              "[(My sister, 1), (She, 1), (a dog, 2), (him, 2)]"
            ]
          },
          "metadata": {
            "tags": []
          },
          "execution_count": 48
        }
      ]
    },
    {
      "cell_type": "code",
      "metadata": {
        "id": "Q6_uutU3tESs",
        "colab": {
          "base_uri": "https://localhost:8080/",
          "height": 34
        },
        "outputId": "7bb8fe48-f41f-49be-e742-7461c05ec1de"
      },
      "source": [
        "entities = doc._.coref_clusters\n",
        "out_string = u'My sister has a dog. She loves him.'\n",
        "out = []\n",
        "prev_end=0\n",
        "for mention, i in sorted_mentions:\n",
        "  prefix = out_string[prev_end:mention.start_char]\n",
        "  prev_end = mention.end_char\n",
        "  out.append(prefix)\n",
        "  out.append(\"{\"+mention.string.strip()+\"}\"+\" [\"+str(i)+\"]\")\n",
        " # print(out)\n",
        "\n",
        "  \n",
        "out_string = \"\".join(out)\n",
        "      #out_string.replace(mention, \"{\"+mention+\"}\"+\" [\"+i+\"]\")\n",
        "print(out_string)"
      ],
      "execution_count": null,
      "outputs": [
        {
          "output_type": "stream",
          "text": [
            "{My sister} [1] has {a dog} [2]. {She} [1] loves {him} [2]\n"
          ],
          "name": "stdout"
        }
      ]
    },
    {
      "cell_type": "code",
      "metadata": {
        "id": "AN5CPj_dv39_"
      },
      "source": [],
      "execution_count": null,
      "outputs": []
    }
  ]
}